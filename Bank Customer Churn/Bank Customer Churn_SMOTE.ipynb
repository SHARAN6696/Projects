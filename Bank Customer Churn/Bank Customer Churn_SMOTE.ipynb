{
 "cells": [
  {
   "cell_type": "code",
   "execution_count": 1,
   "metadata": {},
   "outputs": [],
   "source": [
    "import numpy as np\n",
    "import matplotlib.pyplot as plt\n",
    "import pandas as pd\n",
    "import seaborn as sns"
   ]
  },
  {
   "cell_type": "code",
   "execution_count": 2,
   "metadata": {},
   "outputs": [],
   "source": [
    "#Import training set\n",
    "train = pd.read_excel(\"train_data-1578037482430.xlsx\",na_values='unknown')\n",
    "#Import test set\n",
    "test =  pd.read_excel(\"test_data-1578037501169.xlsx\",na_values='unknown')"
   ]
  },
  {
   "cell_type": "code",
   "execution_count": 3,
   "metadata": {},
   "outputs": [],
   "source": [
    "train=train.drop(['CustomerID','CustomerName'],axis=1)"
   ]
  },
  {
   "cell_type": "code",
   "execution_count": 4,
   "metadata": {},
   "outputs": [
    {
     "data": {
      "text/plain": [
       "0    40.361644\n",
       "1    34.980822\n",
       "2    21.884932\n",
       "3    51.263014\n",
       "4    27.452055\n",
       "Name: Age, dtype: float64"
      ]
     },
     "execution_count": 4,
     "metadata": {},
     "output_type": "execute_result"
    }
   ],
   "source": [
    "#Age in years\n",
    "train[\"Age\"]=((2020-train[\"yearofBirth\"])*365+(train[\"monthofBirth\"]-1)*30+train[\"dayofBirth\"])/365\n",
    "train[\"Age\"].head()"
   ]
  },
  {
   "cell_type": "code",
   "execution_count": 5,
   "metadata": {},
   "outputs": [
    {
     "data": {
      "text/plain": [
       "0    6.898630\n",
       "1    9.621918\n",
       "2    7.928767\n",
       "3    5.936986\n",
       "4    8.767123\n",
       "Name: tenure, dtype: float64"
      ]
     },
     "execution_count": 5,
     "metadata": {},
     "output_type": "execute_result"
    }
   ],
   "source": [
    "#tenure\n",
    "train[\"tenure\"]=((2020-train[\"yearofEntry\"])*365+(train[\"monthofEntry\"]-1)*30+train[\"dayofEntry\"])/365\n",
    "train[\"tenure\"].head()"
   ]
  },
  {
   "cell_type": "code",
   "execution_count": 6,
   "metadata": {},
   "outputs": [],
   "source": [
    "train=train.drop(['yearofBirth','monthofBirth','dayofBirth','yearofEntry','monthofEntry','dayofEntry'],axis=1)"
   ]
  },
  {
   "cell_type": "code",
   "execution_count": 7,
   "metadata": {},
   "outputs": [
    {
     "data": {
      "text/html": [
       "<div>\n",
       "<style scoped>\n",
       "    .dataframe tbody tr th:only-of-type {\n",
       "        vertical-align: middle;\n",
       "    }\n",
       "\n",
       "    .dataframe tbody tr th {\n",
       "        vertical-align: top;\n",
       "    }\n",
       "\n",
       "    .dataframe thead th {\n",
       "        text-align: right;\n",
       "    }\n",
       "</style>\n",
       "<table border=\"1\" class=\"dataframe\">\n",
       "  <thead>\n",
       "    <tr style=\"text-align: right;\">\n",
       "      <th></th>\n",
       "      <th>Gender</th>\n",
       "      <th>Location</th>\n",
       "      <th>Education</th>\n",
       "      <th>MaritalStatus</th>\n",
       "      <th>Occupation</th>\n",
       "      <th>Ownhouse</th>\n",
       "      <th>CreditScore</th>\n",
       "      <th>AccountBalance</th>\n",
       "      <th>NumberOfProducts</th>\n",
       "      <th>IsCreditCardCustomer</th>\n",
       "      <th>ActiveMember</th>\n",
       "      <th>Salary</th>\n",
       "      <th>Churn</th>\n",
       "      <th>Age</th>\n",
       "      <th>tenure</th>\n",
       "    </tr>\n",
       "  </thead>\n",
       "  <tbody>\n",
       "    <tr>\n",
       "      <td>0</td>\n",
       "      <td>Male</td>\n",
       "      <td>Location11</td>\n",
       "      <td>primary</td>\n",
       "      <td>divorced</td>\n",
       "      <td>management</td>\n",
       "      <td>no</td>\n",
       "      <td>716</td>\n",
       "      <td>0.00</td>\n",
       "      <td>2</td>\n",
       "      <td>1</td>\n",
       "      <td>0</td>\n",
       "      <td>189678.70</td>\n",
       "      <td>0</td>\n",
       "      <td>40.361644</td>\n",
       "      <td>6.898630</td>\n",
       "    </tr>\n",
       "    <tr>\n",
       "      <td>1</td>\n",
       "      <td>Female</td>\n",
       "      <td>Location13</td>\n",
       "      <td>primary</td>\n",
       "      <td>divorced</td>\n",
       "      <td>admin.</td>\n",
       "      <td>no</td>\n",
       "      <td>568</td>\n",
       "      <td>169399.60</td>\n",
       "      <td>1</td>\n",
       "      <td>1</td>\n",
       "      <td>0</td>\n",
       "      <td>61936.22</td>\n",
       "      <td>0</td>\n",
       "      <td>34.980822</td>\n",
       "      <td>9.621918</td>\n",
       "    </tr>\n",
       "    <tr>\n",
       "      <td>2</td>\n",
       "      <td>Male</td>\n",
       "      <td>Location13</td>\n",
       "      <td>secondary</td>\n",
       "      <td>married</td>\n",
       "      <td>NaN</td>\n",
       "      <td>NaN</td>\n",
       "      <td>739</td>\n",
       "      <td>89750.21</td>\n",
       "      <td>1</td>\n",
       "      <td>1</td>\n",
       "      <td>0</td>\n",
       "      <td>193008.52</td>\n",
       "      <td>0</td>\n",
       "      <td>21.884932</td>\n",
       "      <td>7.928767</td>\n",
       "    </tr>\n",
       "    <tr>\n",
       "      <td>3</td>\n",
       "      <td>Female</td>\n",
       "      <td>Location11</td>\n",
       "      <td>tertiary</td>\n",
       "      <td>married</td>\n",
       "      <td>admin.</td>\n",
       "      <td>yes</td>\n",
       "      <td>678</td>\n",
       "      <td>204510.94</td>\n",
       "      <td>1</td>\n",
       "      <td>0</td>\n",
       "      <td>1</td>\n",
       "      <td>738.88</td>\n",
       "      <td>1</td>\n",
       "      <td>51.263014</td>\n",
       "      <td>5.936986</td>\n",
       "    </tr>\n",
       "    <tr>\n",
       "      <td>4</td>\n",
       "      <td>Male</td>\n",
       "      <td>Location13</td>\n",
       "      <td>tertiary</td>\n",
       "      <td>single</td>\n",
       "      <td>management</td>\n",
       "      <td>no</td>\n",
       "      <td>670</td>\n",
       "      <td>0.00</td>\n",
       "      <td>2</td>\n",
       "      <td>1</td>\n",
       "      <td>1</td>\n",
       "      <td>78358.94</td>\n",
       "      <td>0</td>\n",
       "      <td>27.452055</td>\n",
       "      <td>8.767123</td>\n",
       "    </tr>\n",
       "  </tbody>\n",
       "</table>\n",
       "</div>"
      ],
      "text/plain": [
       "   Gender    Location  Education MaritalStatus  Occupation Ownhouse  \\\n",
       "0    Male  Location11    primary      divorced  management       no   \n",
       "1  Female  Location13    primary      divorced      admin.       no   \n",
       "2    Male  Location13  secondary       married         NaN      NaN   \n",
       "3  Female  Location11   tertiary       married      admin.      yes   \n",
       "4    Male  Location13   tertiary        single  management       no   \n",
       "\n",
       "   CreditScore  AccountBalance  NumberOfProducts  IsCreditCardCustomer  \\\n",
       "0          716            0.00                 2                     1   \n",
       "1          568       169399.60                 1                     1   \n",
       "2          739        89750.21                 1                     1   \n",
       "3          678       204510.94                 1                     0   \n",
       "4          670            0.00                 2                     1   \n",
       "\n",
       "   ActiveMember     Salary  Churn        Age    tenure  \n",
       "0             0  189678.70      0  40.361644  6.898630  \n",
       "1             0   61936.22      0  34.980822  9.621918  \n",
       "2             0  193008.52      0  21.884932  7.928767  \n",
       "3             1     738.88      1  51.263014  5.936986  \n",
       "4             1   78358.94      0  27.452055  8.767123  "
      ]
     },
     "execution_count": 7,
     "metadata": {},
     "output_type": "execute_result"
    }
   ],
   "source": [
    "train.head()"
   ]
  },
  {
   "cell_type": "code",
   "execution_count": 8,
   "metadata": {},
   "outputs": [
    {
     "data": {
      "text/plain": [
       "Gender                   object\n",
       "Location                 object\n",
       "Education                object\n",
       "MaritalStatus            object\n",
       "Occupation               object\n",
       "Ownhouse                 object\n",
       "CreditScore               int64\n",
       "AccountBalance          float64\n",
       "NumberOfProducts          int64\n",
       "IsCreditCardCustomer      int64\n",
       "ActiveMember              int64\n",
       "Salary                  float64\n",
       "Churn                     int64\n",
       "Age                     float64\n",
       "tenure                  float64\n",
       "dtype: object"
      ]
     },
     "execution_count": 8,
     "metadata": {},
     "output_type": "execute_result"
    }
   ],
   "source": [
    "train.dtypes"
   ]
  },
  {
   "cell_type": "code",
   "execution_count": 9,
   "metadata": {},
   "outputs": [],
   "source": [
    "train[['Gender', 'Location', 'Education', 'MaritalStatus', 'Occupation','Ownhouse',\n",
    "       ]]=train[['Gender', 'Location', 'Education', 'MaritalStatus', 'Occupation','Ownhouse',\n",
    "      ]].astype(\"category\")"
   ]
  },
  {
   "cell_type": "code",
   "execution_count": 10,
   "metadata": {},
   "outputs": [
    {
     "data": {
      "text/plain": [
       "Gender                     0\n",
       "Location                   0\n",
       "Education               1860\n",
       "MaritalStatus              0\n",
       "Occupation               781\n",
       "Ownhouse                 191\n",
       "CreditScore                0\n",
       "AccountBalance             0\n",
       "NumberOfProducts           0\n",
       "IsCreditCardCustomer       0\n",
       "ActiveMember               0\n",
       "Salary                     0\n",
       "Churn                      0\n",
       "Age                        0\n",
       "tenure                     0\n",
       "dtype: int64"
      ]
     },
     "execution_count": 10,
     "metadata": {},
     "output_type": "execute_result"
    }
   ],
   "source": [
    "train.isnull().sum()"
   ]
  },
  {
   "cell_type": "code",
   "execution_count": 11,
   "metadata": {},
   "outputs": [],
   "source": [
    "train.Education.fillna(train.Education.mode()[0],inplace=True)\n",
    "train.Occupation.fillna(train.Occupation.mode()[0],inplace=True)\n",
    "train.Ownhouse.fillna(train.Ownhouse.mode()[0],inplace=True)"
   ]
  },
  {
   "cell_type": "code",
   "execution_count": 12,
   "metadata": {},
   "outputs": [
    {
     "data": {
      "text/plain": [
       "Gender                  0\n",
       "Location                0\n",
       "Education               0\n",
       "MaritalStatus           0\n",
       "Occupation              0\n",
       "Ownhouse                0\n",
       "CreditScore             0\n",
       "AccountBalance          0\n",
       "NumberOfProducts        0\n",
       "IsCreditCardCustomer    0\n",
       "ActiveMember            0\n",
       "Salary                  0\n",
       "Churn                   0\n",
       "Age                     0\n",
       "tenure                  0\n",
       "dtype: int64"
      ]
     },
     "execution_count": 12,
     "metadata": {},
     "output_type": "execute_result"
    }
   ],
   "source": [
    "train.isnull().sum()"
   ]
  },
  {
   "cell_type": "code",
   "execution_count": 13,
   "metadata": {},
   "outputs": [
    {
     "data": {
      "text/html": [
       "<div>\n",
       "<style scoped>\n",
       "    .dataframe tbody tr th:only-of-type {\n",
       "        vertical-align: middle;\n",
       "    }\n",
       "\n",
       "    .dataframe tbody tr th {\n",
       "        vertical-align: top;\n",
       "    }\n",
       "\n",
       "    .dataframe thead th {\n",
       "        text-align: right;\n",
       "    }\n",
       "</style>\n",
       "<table border=\"1\" class=\"dataframe\">\n",
       "  <thead>\n",
       "    <tr style=\"text-align: right;\">\n",
       "      <th></th>\n",
       "      <th>Gender</th>\n",
       "      <th>Location</th>\n",
       "      <th>Education</th>\n",
       "      <th>MaritalStatus</th>\n",
       "      <th>Occupation</th>\n",
       "      <th>Ownhouse</th>\n",
       "      <th>CreditScore</th>\n",
       "      <th>AccountBalance</th>\n",
       "      <th>NumberOfProducts</th>\n",
       "      <th>IsCreditCardCustomer</th>\n",
       "      <th>ActiveMember</th>\n",
       "      <th>Salary</th>\n",
       "      <th>Churn</th>\n",
       "      <th>Age</th>\n",
       "      <th>tenure</th>\n",
       "    </tr>\n",
       "  </thead>\n",
       "  <tbody>\n",
       "    <tr>\n",
       "      <td>0</td>\n",
       "      <td>Male</td>\n",
       "      <td>Location11</td>\n",
       "      <td>primary</td>\n",
       "      <td>divorced</td>\n",
       "      <td>management</td>\n",
       "      <td>no</td>\n",
       "      <td>716</td>\n",
       "      <td>0.00</td>\n",
       "      <td>2</td>\n",
       "      <td>1</td>\n",
       "      <td>0</td>\n",
       "      <td>189678.70</td>\n",
       "      <td>0</td>\n",
       "      <td>40.361644</td>\n",
       "      <td>6.898630</td>\n",
       "    </tr>\n",
       "    <tr>\n",
       "      <td>1</td>\n",
       "      <td>Female</td>\n",
       "      <td>Location13</td>\n",
       "      <td>primary</td>\n",
       "      <td>divorced</td>\n",
       "      <td>admin.</td>\n",
       "      <td>no</td>\n",
       "      <td>568</td>\n",
       "      <td>169399.60</td>\n",
       "      <td>1</td>\n",
       "      <td>1</td>\n",
       "      <td>0</td>\n",
       "      <td>61936.22</td>\n",
       "      <td>0</td>\n",
       "      <td>34.980822</td>\n",
       "      <td>9.621918</td>\n",
       "    </tr>\n",
       "    <tr>\n",
       "      <td>2</td>\n",
       "      <td>Male</td>\n",
       "      <td>Location13</td>\n",
       "      <td>secondary</td>\n",
       "      <td>married</td>\n",
       "      <td>admin.</td>\n",
       "      <td>no</td>\n",
       "      <td>739</td>\n",
       "      <td>89750.21</td>\n",
       "      <td>1</td>\n",
       "      <td>1</td>\n",
       "      <td>0</td>\n",
       "      <td>193008.52</td>\n",
       "      <td>0</td>\n",
       "      <td>21.884932</td>\n",
       "      <td>7.928767</td>\n",
       "    </tr>\n",
       "    <tr>\n",
       "      <td>3</td>\n",
       "      <td>Female</td>\n",
       "      <td>Location11</td>\n",
       "      <td>tertiary</td>\n",
       "      <td>married</td>\n",
       "      <td>admin.</td>\n",
       "      <td>yes</td>\n",
       "      <td>678</td>\n",
       "      <td>204510.94</td>\n",
       "      <td>1</td>\n",
       "      <td>0</td>\n",
       "      <td>1</td>\n",
       "      <td>738.88</td>\n",
       "      <td>1</td>\n",
       "      <td>51.263014</td>\n",
       "      <td>5.936986</td>\n",
       "    </tr>\n",
       "    <tr>\n",
       "      <td>4</td>\n",
       "      <td>Male</td>\n",
       "      <td>Location13</td>\n",
       "      <td>tertiary</td>\n",
       "      <td>single</td>\n",
       "      <td>management</td>\n",
       "      <td>no</td>\n",
       "      <td>670</td>\n",
       "      <td>0.00</td>\n",
       "      <td>2</td>\n",
       "      <td>1</td>\n",
       "      <td>1</td>\n",
       "      <td>78358.94</td>\n",
       "      <td>0</td>\n",
       "      <td>27.452055</td>\n",
       "      <td>8.767123</td>\n",
       "    </tr>\n",
       "  </tbody>\n",
       "</table>\n",
       "</div>"
      ],
      "text/plain": [
       "   Gender    Location  Education MaritalStatus  Occupation Ownhouse  \\\n",
       "0    Male  Location11    primary      divorced  management       no   \n",
       "1  Female  Location13    primary      divorced      admin.       no   \n",
       "2    Male  Location13  secondary       married      admin.       no   \n",
       "3  Female  Location11   tertiary       married      admin.      yes   \n",
       "4    Male  Location13   tertiary        single  management       no   \n",
       "\n",
       "   CreditScore  AccountBalance  NumberOfProducts  IsCreditCardCustomer  \\\n",
       "0          716            0.00                 2                     1   \n",
       "1          568       169399.60                 1                     1   \n",
       "2          739        89750.21                 1                     1   \n",
       "3          678       204510.94                 1                     0   \n",
       "4          670            0.00                 2                     1   \n",
       "\n",
       "   ActiveMember     Salary  Churn        Age    tenure  \n",
       "0             0  189678.70      0  40.361644  6.898630  \n",
       "1             0   61936.22      0  34.980822  9.621918  \n",
       "2             0  193008.52      0  21.884932  7.928767  \n",
       "3             1     738.88      1  51.263014  5.936986  \n",
       "4             1   78358.94      0  27.452055  8.767123  "
      ]
     },
     "execution_count": 13,
     "metadata": {},
     "output_type": "execute_result"
    }
   ],
   "source": [
    "train.head()"
   ]
  },
  {
   "cell_type": "code",
   "execution_count": 14,
   "metadata": {},
   "outputs": [
    {
     "data": {
      "text/plain": [
       "Gender                  category\n",
       "Location                category\n",
       "Education               category\n",
       "MaritalStatus           category\n",
       "Occupation              category\n",
       "Ownhouse                category\n",
       "CreditScore                int64\n",
       "AccountBalance           float64\n",
       "NumberOfProducts           int64\n",
       "IsCreditCardCustomer       int64\n",
       "ActiveMember               int64\n",
       "Salary                   float64\n",
       "Churn                      int64\n",
       "Age                      float64\n",
       "tenure                   float64\n",
       "dtype: object"
      ]
     },
     "execution_count": 14,
     "metadata": {},
     "output_type": "execute_result"
    }
   ],
   "source": [
    "train.dtypes"
   ]
  },
  {
   "cell_type": "code",
   "execution_count": 15,
   "metadata": {},
   "outputs": [],
   "source": [
    "X=train.drop(\"Churn\",axis=1)\n",
    "y=train[\"Churn\"]"
   ]
  },
  {
   "cell_type": "code",
   "execution_count": 16,
   "metadata": {},
   "outputs": [],
   "source": [
    "from imblearn.over_sampling import RandomOverSampler\n",
    "from sklearn.preprocessing import StandardScaler\n",
    "from sklearn.model_selection import train_test_split\n",
    "from sklearn.linear_model import LogisticRegression\n",
    "from sklearn.metrics import confusion_matrix\n",
    "from sklearn.metrics import accuracy_score\n",
    "from sklearn.metrics import f1_score\n",
    "from sklearn.metrics import recall_score\n",
    "from sklearn.metrics import precision_score\n",
    "\n",
    "from sklearn import tree\n",
    "from sklearn import metrics\n",
    "from sklearn.model_selection import GridSearchCV"
   ]
  },
  {
   "cell_type": "code",
   "execution_count": 17,
   "metadata": {},
   "outputs": [],
   "source": [
    "os =  RandomOverSampler()"
   ]
  },
  {
   "cell_type": "code",
   "execution_count": 18,
   "metadata": {},
   "outputs": [],
   "source": [
    "X_train_res, y_train_res = os.fit_sample(X, y)"
   ]
  },
  {
   "cell_type": "code",
   "execution_count": 19,
   "metadata": {},
   "outputs": [],
   "source": [
    "num_att=['CreditScore','AccountBalance','NumberOfProducts','tenure','Salary','Age']"
   ]
  },
  {
   "cell_type": "code",
   "execution_count": 20,
   "metadata": {},
   "outputs": [],
   "source": [
    "dummy=['Education','Location','Gender','MaritalStatus','Occupation','Ownhouse']"
   ]
  },
  {
   "cell_type": "code",
   "execution_count": 21,
   "metadata": {},
   "outputs": [
    {
     "data": {
      "text/plain": [
       "StandardScaler(copy=True, with_mean=True, with_std=True)"
      ]
     },
     "execution_count": 21,
     "metadata": {},
     "output_type": "execute_result"
    }
   ],
   "source": [
    "scaler = StandardScaler()\n",
    "scaler.fit(X_train_res[num_att])"
   ]
  },
  {
   "cell_type": "code",
   "execution_count": 22,
   "metadata": {},
   "outputs": [],
   "source": [
    "## Standardize the train data\n",
    "X_train_res[num_att]=scaler.transform(X_train_res[num_att])"
   ]
  },
  {
   "cell_type": "code",
   "execution_count": 23,
   "metadata": {},
   "outputs": [],
   "source": [
    "X_train_res = pd.get_dummies(columns=dummy, data=X_train_res, \n",
    "                      prefix=dummy, prefix_sep=\"_\", drop_first=True)"
   ]
  },
  {
   "cell_type": "markdown",
   "metadata": {},
   "source": [
    "### Model Building"
   ]
  },
  {
   "cell_type": "code",
   "execution_count": 24,
   "metadata": {},
   "outputs": [],
   "source": [
    "X_train, X_test, y_train, y_test = train_test_split(X_train_res, y_train_res, test_size=0.20, random_state=123)"
   ]
  },
  {
   "cell_type": "markdown",
   "metadata": {},
   "source": [
    "### Logistic Regression"
   ]
  },
  {
   "cell_type": "code",
   "execution_count": 25,
   "metadata": {},
   "outputs": [],
   "source": [
    "lg = LogisticRegression(random_state=0).fit(X_train, y_train)"
   ]
  },
  {
   "cell_type": "code",
   "execution_count": 26,
   "metadata": {},
   "outputs": [],
   "source": [
    "y_pred=lg.predict(X_test)"
   ]
  },
  {
   "cell_type": "code",
   "execution_count": 27,
   "metadata": {},
   "outputs": [
    {
     "name": "stdout",
     "output_type": "stream",
     "text": [
      "Accuracy for Train set:\n",
      "0.7194290583723902\n",
      "Accuracy for Test set:\n",
      "0.7201873935264055\n",
      "\n",
      "\n",
      "Recall for Train set:\n",
      "0.7217280813214739\n",
      "Recall for Test set:\n",
      "0.7225130890052356\n",
      "\n",
      "\n",
      "Precision for Train set:\n",
      "0.7208121827411168\n",
      "Precision for Test set:\n",
      "0.7095115681233933\n",
      "\n",
      "\n",
      "F1 Score for Test set:\n",
      "0.7159533073929961\n"
     ]
    }
   ],
   "source": [
    "y_pred = lg.predict(X_train)\n",
    "print(\"Accuracy for Train set:\")\n",
    "print(accuracy_score(y_train,y_pred))\n",
    "\n",
    "y_pred_test = lg.predict(X_test)\n",
    "print(\"Accuracy for Test set:\")\n",
    "print(accuracy_score(y_test,y_pred_test))\n",
    "\n",
    "print(\"\\n\")\n",
    "\n",
    "print(\"Recall for Train set:\")\n",
    "print(recall_score(y_train,y_pred,pos_label=1))\n",
    "\n",
    "print(\"Recall for Test set:\")\n",
    "print(recall_score(y_test,y_pred_test,pos_label=1))\n",
    "\n",
    "print(\"\\n\")\n",
    "\n",
    "print(\"Precision for Train set:\")\n",
    "print(precision_score(y_train,y_pred,pos_label=1))\n",
    "\n",
    "print(\"Precision for Test set:\")\n",
    "print(precision_score(y_test,y_pred_test,pos_label=1))\n",
    "\n",
    "print(\"\\n\")\n",
    "\n",
    "print(\"F1 Score for Test set:\")\n",
    "print(f1_score(y_test, y_pred_test,pos_label=1))"
   ]
  },
  {
   "cell_type": "markdown",
   "metadata": {},
   "source": [
    "### Decision Tree"
   ]
  },
  {
   "cell_type": "code",
   "execution_count": 28,
   "metadata": {},
   "outputs": [],
   "source": [
    "clf = tree.DecisionTreeClassifier()\n",
    "clf = clf.fit(X_train, y_train)"
   ]
  },
  {
   "cell_type": "code",
   "execution_count": 29,
   "metadata": {},
   "outputs": [
    {
     "data": {
      "text/plain": [
       "array([0.08050548, 0.14082387, 0.11538897, 0.01559454, 0.03955049,\n",
       "       0.08772192, 0.3058262 , 0.09682389, 0.00635674, 0.00927828,\n",
       "       0.02141198, 0.00984711, 0.01539974, 0.00951583, 0.00927371,\n",
       "       0.00230728, 0.        , 0.00401523, 0.00976257, 0.01114235,\n",
       "       0.0094538 ])"
      ]
     },
     "execution_count": 29,
     "metadata": {},
     "output_type": "execute_result"
    }
   ],
   "source": [
    "clf.feature_importances_"
   ]
  },
  {
   "cell_type": "code",
   "execution_count": 30,
   "metadata": {},
   "outputs": [
    {
     "data": {
      "text/html": [
       "<div>\n",
       "<style scoped>\n",
       "    .dataframe tbody tr th:only-of-type {\n",
       "        vertical-align: middle;\n",
       "    }\n",
       "\n",
       "    .dataframe tbody tr th {\n",
       "        vertical-align: top;\n",
       "    }\n",
       "\n",
       "    .dataframe thead th {\n",
       "        text-align: right;\n",
       "    }\n",
       "</style>\n",
       "<table border=\"1\" class=\"dataframe\">\n",
       "  <thead>\n",
       "    <tr style=\"text-align: right;\">\n",
       "      <th></th>\n",
       "      <th>0</th>\n",
       "      <th>1</th>\n",
       "      <th>2</th>\n",
       "      <th>3</th>\n",
       "      <th>4</th>\n",
       "      <th>5</th>\n",
       "      <th>6</th>\n",
       "      <th>7</th>\n",
       "      <th>8</th>\n",
       "      <th>9</th>\n",
       "      <th>...</th>\n",
       "      <th>11</th>\n",
       "      <th>12</th>\n",
       "      <th>13</th>\n",
       "      <th>14</th>\n",
       "      <th>15</th>\n",
       "      <th>16</th>\n",
       "      <th>17</th>\n",
       "      <th>18</th>\n",
       "      <th>19</th>\n",
       "      <th>20</th>\n",
       "    </tr>\n",
       "  </thead>\n",
       "  <tbody>\n",
       "    <tr>\n",
       "      <td>0</td>\n",
       "      <td>Age</td>\n",
       "      <td>AccountBalance</td>\n",
       "      <td>NumberOfProducts</td>\n",
       "      <td>tenure</td>\n",
       "      <td>Salary</td>\n",
       "      <td>CreditScore</td>\n",
       "      <td>ActiveMember</td>\n",
       "      <td>Location_Location12</td>\n",
       "      <td>IsCreditCardCustomer</td>\n",
       "      <td>Gender_Male</td>\n",
       "      <td>...</td>\n",
       "      <td>Location_Location13</td>\n",
       "      <td>Occupation_services</td>\n",
       "      <td>MaritalStatus_married</td>\n",
       "      <td>Ownhouse_yes</td>\n",
       "      <td>Education_tertiary</td>\n",
       "      <td>MaritalStatus_single</td>\n",
       "      <td>Education_secondary</td>\n",
       "      <td>Occupation_self-employed</td>\n",
       "      <td>Occupation_management</td>\n",
       "      <td>Occupation_retired</td>\n",
       "    </tr>\n",
       "    <tr>\n",
       "      <td>1</td>\n",
       "      <td>0.305826</td>\n",
       "      <td>0.140824</td>\n",
       "      <td>0.115389</td>\n",
       "      <td>0.0968239</td>\n",
       "      <td>0.0877219</td>\n",
       "      <td>0.0805055</td>\n",
       "      <td>0.0395505</td>\n",
       "      <td>0.021412</td>\n",
       "      <td>0.0155945</td>\n",
       "      <td>0.0153997</td>\n",
       "      <td>...</td>\n",
       "      <td>0.00984711</td>\n",
       "      <td>0.00976257</td>\n",
       "      <td>0.00951583</td>\n",
       "      <td>0.0094538</td>\n",
       "      <td>0.00927828</td>\n",
       "      <td>0.00927371</td>\n",
       "      <td>0.00635674</td>\n",
       "      <td>0.00401523</td>\n",
       "      <td>0.00230728</td>\n",
       "      <td>0</td>\n",
       "    </tr>\n",
       "  </tbody>\n",
       "</table>\n",
       "<p>2 rows × 21 columns</p>\n",
       "</div>"
      ],
      "text/plain": [
       "         0               1                 2          3          4   \\\n",
       "0       Age  AccountBalance  NumberOfProducts     tenure     Salary   \n",
       "1  0.305826        0.140824          0.115389  0.0968239  0.0877219   \n",
       "\n",
       "            5             6                    7                     8   \\\n",
       "0  CreditScore  ActiveMember  Location_Location12  IsCreditCardCustomer   \n",
       "1    0.0805055     0.0395505             0.021412             0.0155945   \n",
       "\n",
       "            9   ...                   11                   12  \\\n",
       "0  Gender_Male  ...  Location_Location13  Occupation_services   \n",
       "1    0.0153997  ...           0.00984711           0.00976257   \n",
       "\n",
       "                      13            14                  15  \\\n",
       "0  MaritalStatus_married  Ownhouse_yes  Education_tertiary   \n",
       "1             0.00951583     0.0094538          0.00927828   \n",
       "\n",
       "                     16                   17                        18  \\\n",
       "0  MaritalStatus_single  Education_secondary  Occupation_self-employed   \n",
       "1            0.00927371           0.00635674                0.00401523   \n",
       "\n",
       "                      19                  20  \n",
       "0  Occupation_management  Occupation_retired  \n",
       "1             0.00230728                   0  \n",
       "\n",
       "[2 rows x 21 columns]"
      ]
     },
     "execution_count": 30,
     "metadata": {},
     "output_type": "execute_result"
    }
   ],
   "source": [
    "features = X_train.columns\n",
    "importances = clf.feature_importances_\n",
    "indices = np.argsort(importances)[::-1]\n",
    "pd.DataFrame([X_train.columns[indices],np.sort(importances)[::-1]])"
   ]
  },
  {
   "cell_type": "code",
   "execution_count": 31,
   "metadata": {},
   "outputs": [
    {
     "data": {
      "image/png": "[encoded data removed]",
      "text/plain": [
       "<Figure size 432x288 with 1 Axes>"
      ]
     },
     "metadata": {
      "needs_background": "light"
     },
     "output_type": "display_data"
    }
   ],
   "source": [
    "plt.title('Feature Importances')\n",
    "plt.barh(range(len(indices)), importances[indices], color='black')\n",
    "plt.yticks(range(len(indices)), [features[i] for i in indices])\n",
    "plt.xlabel('Relative Importance')\n",
    "plt.show()"
   ]
  },
  {
   "cell_type": "code",
   "execution_count": 32,
   "metadata": {},
   "outputs": [],
   "source": [
    "train_pred = clf.predict(X_train)\n",
    "test_pred = clf.predict(X_test)"
   ]
  },
  {
   "cell_type": "code",
   "execution_count": 33,
   "metadata": {},
   "outputs": [
    {
     "name": "stdout",
     "output_type": "stream",
     "text": [
      "[[4666    0]\n",
      " [   0 4722]]\n",
      "[[1011  191]\n",
      " [  18 1128]]\n"
     ]
    }
   ],
   "source": [
    "confusion_matrix_test = confusion_matrix(y_test, test_pred)\n",
    "confusion_matrix_train = confusion_matrix(y_train, train_pred)\n",
    "\n",
    "print(confusion_matrix_train)\n",
    "print(confusion_matrix_test)"
   ]
  },
  {
   "cell_type": "code",
   "execution_count": 34,
   "metadata": {},
   "outputs": [
    {
     "data": {
      "text/plain": [
       "0.9152129817444219"
      ]
     },
     "execution_count": 34,
     "metadata": {},
     "output_type": "execute_result"
    }
   ],
   "source": [
    "metrics.f1_score(y_test, test_pred)"
   ]
  },
  {
   "cell_type": "markdown",
   "metadata": {},
   "source": [
    "### Random Forest"
   ]
  },
  {
   "cell_type": "code",
   "execution_count": 35,
   "metadata": {},
   "outputs": [],
   "source": [
    "from sklearn.ensemble import RandomForestClassifier"
   ]
  },
  {
   "cell_type": "code",
   "execution_count": 36,
   "metadata": {},
   "outputs": [
    {
     "data": {
      "text/plain": [
       "RandomForestClassifier(bootstrap=True, ccp_alpha=0.0, class_weight=None,\n",
       "                       criterion='gini', max_depth=20, max_features='auto',\n",
       "                       max_leaf_nodes=None, max_samples=None,\n",
       "                       min_impurity_decrease=0.0, min_impurity_split=None,\n",
       "                       min_samples_leaf=1, min_samples_split=2,\n",
       "                       min_weight_fraction_leaf=0.0, n_estimators=1000,\n",
       "                       n_jobs=None, oob_score=False, random_state=None,\n",
       "                       verbose=0, warm_start=False)"
      ]
     },
     "execution_count": 36,
     "metadata": {},
     "output_type": "execute_result"
    }
   ],
   "source": [
    "rf = RandomForestClassifier(n_estimators=1000,max_depth=20)\n",
    "rf.fit(X=X_train, y=y_train)"
   ]
  },
  {
   "cell_type": "code",
   "execution_count": 37,
   "metadata": {},
   "outputs": [
    {
     "name": "stdout",
     "output_type": "stream",
     "text": [
      "Accuracy for Train set:\n",
      "1.0\n",
      "Accuracy for Test set:\n",
      "0.952725724020443\n",
      "\n",
      "\n",
      "Recall for Train set:\n",
      "1.0\n",
      "Recall for Test set:\n",
      "0.981675392670157\n",
      "\n",
      "\n",
      "Precision for Train set:\n",
      "1.0\n",
      "Precision for Test set:\n",
      "0.9259259259259259\n",
      "\n",
      "\n",
      "F1_Score for Test set:\n",
      "0.9529860228716646\n"
     ]
    }
   ],
   "source": [
    "y_pred = rf.predict(X_train)\n",
    "print(\"Accuracy for Train set:\")\n",
    "print(accuracy_score(y_train,y_pred))\n",
    "\n",
    "y_pred_test = rf.predict(X_test)\n",
    "print(\"Accuracy for Test set:\")\n",
    "print(accuracy_score(y_test,y_pred_test))\n",
    "\n",
    "print(\"\\n\")\n",
    "\n",
    "print(\"Recall for Train set:\")\n",
    "print(recall_score(y_train,y_pred,pos_label=1))\n",
    "\n",
    "print(\"Recall for Test set:\")\n",
    "print(recall_score(y_test,y_pred_test,pos_label=1))\n",
    "\n",
    "print(\"\\n\")\n",
    "\n",
    "print(\"Precision for Train set:\")\n",
    "print(precision_score(y_train,y_pred,pos_label=1))\n",
    "\n",
    "print(\"Precision for Test set:\")\n",
    "print(precision_score(y_test,y_pred_test,pos_label=1))\n",
    "\n",
    "print(\"\\n\")\n",
    "\n",
    "print(\"F1_Score for Test set:\")\n",
    "print(metrics.f1_score(y_test,y_pred_test,pos_label=1))"
   ]
  },
  {
   "cell_type": "markdown",
   "metadata": {},
   "source": [
    "### XGBoost"
   ]
  },
  {
   "cell_type": "code",
   "execution_count": 38,
   "metadata": {},
   "outputs": [],
   "source": [
    "from sklearn.ensemble import GradientBoostingClassifier\n",
    "from sklearn.ensemble import AdaBoostClassifier\n",
    "\n",
    "from xgboost import XGBClassifier"
   ]
  },
  {
   "cell_type": "code",
   "execution_count": 39,
   "metadata": {},
   "outputs": [
    {
     "name": "stdout",
     "output_type": "stream",
     "text": [
      "Wall time: 50.8 s\n",
      "0.9361158432708688\n"
     ]
    }
   ],
   "source": [
    "XGB_model = XGBClassifier(n_estimators=1000, gamma=0.5,learning_rate=0.1,max_depth=25)\n",
    "%time XGB_model.fit(X_train, y_train)\n",
    "y_pred = XGB_model.predict(X_test)\n",
    "print(accuracy_score(y_test,y_pred))"
   ]
  },
  {
   "cell_type": "code",
   "execution_count": 40,
   "metadata": {},
   "outputs": [
    {
     "name": "stdout",
     "output_type": "stream",
     "text": [
      "0.9373956594323873\n"
     ]
    }
   ],
   "source": [
    "print(metrics.f1_score(y_test,y_pred))"
   ]
  }
 ],
 "metadata": {
  "kernelspec": {
   "display_name": "Python 3",
   "language": "python",
   "name": "python3"
  },
  "language_info": {
   "codemirror_mode": {
    "name": "ipython",
    "version": 3
   },
   "file_extension": ".py",
   "mimetype": "text/x-python",
   "name": "python",
   "nbconvert_exporter": "python",
   "pygments_lexer": "ipython3",
   "version": "3.7.4"
  }
 },
 "nbformat": 4,
 "nbformat_minor": 2
}
