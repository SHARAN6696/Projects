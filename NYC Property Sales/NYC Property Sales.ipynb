{
 "cells": [
  {
   "cell_type": "markdown",
   "metadata": {},
   "source": [
    "#### Importing necessary libraries and loading the dataset"
   ]
  },
  {
   "cell_type": "code",
   "execution_count": 1,
   "metadata": {},
   "outputs": [],
   "source": [
    "import pandas as pd\n",
    "import numpy as np\n",
    "from scipy import stats\n",
    "import sklearn as sk\n",
    "import itertools\n",
    "import matplotlib.pyplot as plt\n",
    "import seaborn as sns\n",
    "import warnings \n",
    "warnings.filterwarnings('ignore')\n",
    "%matplotlib inline"
   ]
  },
  {
   "cell_type": "code",
   "execution_count": 2,
   "metadata": {},
   "outputs": [],
   "source": [
    "from sklearn.model_selection import KFold\n",
    "from sklearn.model_selection import train_test_split \n",
    "from sklearn.model_selection import GridSearchCV\n",
    "\n",
    "# Data Scaler\n",
    "from sklearn.preprocessing import StandardScaler\n",
    "\n",
    "# Regression\n",
    "from sklearn.linear_model import LinearRegression \n",
    "from sklearn.linear_model import Lasso\n",
    "from sklearn.linear_model import Ridge\n",
    "from sklearn.ensemble import RandomForestRegressor\n",
    "from sklearn.linear_model import ElasticNet"
   ]
  },
  {
   "cell_type": "code",
   "execution_count": 3,
   "metadata": {},
   "outputs": [],
   "source": [
    "# Metrics\n",
    "from sklearn import metrics\n",
    "from sklearn.metrics import mean_squared_error\n",
    "from sklearn.model_selection import cross_val_score"
   ]
  },
  {
   "cell_type": "code",
   "execution_count": 4,
   "metadata": {},
   "outputs": [],
   "source": [
    "df = pd.read_csv('nyc-rolling-sales.csv')"
   ]
  },
  {
   "cell_type": "code",
   "execution_count": 5,
   "metadata": {},
   "outputs": [
    {
     "data": {
      "text/html": [
       "<div>\n",
       "<style scoped>\n",
       "    .dataframe tbody tr th:only-of-type {\n",
       "        vertical-align: middle;\n",
       "    }\n",
       "\n",
       "    .dataframe tbody tr th {\n",
       "        vertical-align: top;\n",
       "    }\n",
       "\n",
       "    .dataframe thead th {\n",
       "        text-align: right;\n",
       "    }\n",
       "</style>\n",
       "<table border=\"1\" class=\"dataframe\">\n",
       "  <thead>\n",
       "    <tr style=\"text-align: right;\">\n",
       "      <th></th>\n",
       "      <th>Unnamed: 0</th>\n",
       "      <th>BOROUGH</th>\n",
       "      <th>NEIGHBORHOOD</th>\n",
       "      <th>BUILDING CLASS CATEGORY</th>\n",
       "      <th>TAX CLASS AT PRESENT</th>\n",
       "      <th>BLOCK</th>\n",
       "      <th>LOT</th>\n",
       "      <th>EASE-MENT</th>\n",
       "      <th>BUILDING CLASS AT PRESENT</th>\n",
       "      <th>ADDRESS</th>\n",
       "      <th>...</th>\n",
       "      <th>RESIDENTIAL UNITS</th>\n",
       "      <th>COMMERCIAL UNITS</th>\n",
       "      <th>TOTAL UNITS</th>\n",
       "      <th>LAND SQUARE FEET</th>\n",
       "      <th>GROSS SQUARE FEET</th>\n",
       "      <th>YEAR BUILT</th>\n",
       "      <th>TAX CLASS AT TIME OF SALE</th>\n",
       "      <th>BUILDING CLASS AT TIME OF SALE</th>\n",
       "      <th>SALE PRICE</th>\n",
       "      <th>SALE DATE</th>\n",
       "    </tr>\n",
       "  </thead>\n",
       "  <tbody>\n",
       "    <tr>\n",
       "      <td>0</td>\n",
       "      <td>4</td>\n",
       "      <td>1</td>\n",
       "      <td>ALPHABET CITY</td>\n",
       "      <td>07 RENTALS - WALKUP APARTMENTS</td>\n",
       "      <td>2A</td>\n",
       "      <td>392</td>\n",
       "      <td>6</td>\n",
       "      <td></td>\n",
       "      <td>C2</td>\n",
       "      <td>153 AVENUE B</td>\n",
       "      <td>...</td>\n",
       "      <td>5</td>\n",
       "      <td>0</td>\n",
       "      <td>5</td>\n",
       "      <td>1633</td>\n",
       "      <td>6440</td>\n",
       "      <td>1900</td>\n",
       "      <td>2</td>\n",
       "      <td>C2</td>\n",
       "      <td>6625000</td>\n",
       "      <td>2017-07-19 00:00:00</td>\n",
       "    </tr>\n",
       "    <tr>\n",
       "      <td>1</td>\n",
       "      <td>5</td>\n",
       "      <td>1</td>\n",
       "      <td>ALPHABET CITY</td>\n",
       "      <td>07 RENTALS - WALKUP APARTMENTS</td>\n",
       "      <td>2</td>\n",
       "      <td>399</td>\n",
       "      <td>26</td>\n",
       "      <td></td>\n",
       "      <td>C7</td>\n",
       "      <td>234 EAST 4TH   STREET</td>\n",
       "      <td>...</td>\n",
       "      <td>28</td>\n",
       "      <td>3</td>\n",
       "      <td>31</td>\n",
       "      <td>4616</td>\n",
       "      <td>18690</td>\n",
       "      <td>1900</td>\n",
       "      <td>2</td>\n",
       "      <td>C7</td>\n",
       "      <td>-</td>\n",
       "      <td>2016-12-14 00:00:00</td>\n",
       "    </tr>\n",
       "    <tr>\n",
       "      <td>2</td>\n",
       "      <td>6</td>\n",
       "      <td>1</td>\n",
       "      <td>ALPHABET CITY</td>\n",
       "      <td>07 RENTALS - WALKUP APARTMENTS</td>\n",
       "      <td>2</td>\n",
       "      <td>399</td>\n",
       "      <td>39</td>\n",
       "      <td></td>\n",
       "      <td>C7</td>\n",
       "      <td>197 EAST 3RD   STREET</td>\n",
       "      <td>...</td>\n",
       "      <td>16</td>\n",
       "      <td>1</td>\n",
       "      <td>17</td>\n",
       "      <td>2212</td>\n",
       "      <td>7803</td>\n",
       "      <td>1900</td>\n",
       "      <td>2</td>\n",
       "      <td>C7</td>\n",
       "      <td>-</td>\n",
       "      <td>2016-12-09 00:00:00</td>\n",
       "    </tr>\n",
       "    <tr>\n",
       "      <td>3</td>\n",
       "      <td>7</td>\n",
       "      <td>1</td>\n",
       "      <td>ALPHABET CITY</td>\n",
       "      <td>07 RENTALS - WALKUP APARTMENTS</td>\n",
       "      <td>2B</td>\n",
       "      <td>402</td>\n",
       "      <td>21</td>\n",
       "      <td></td>\n",
       "      <td>C4</td>\n",
       "      <td>154 EAST 7TH STREET</td>\n",
       "      <td>...</td>\n",
       "      <td>10</td>\n",
       "      <td>0</td>\n",
       "      <td>10</td>\n",
       "      <td>2272</td>\n",
       "      <td>6794</td>\n",
       "      <td>1913</td>\n",
       "      <td>2</td>\n",
       "      <td>C4</td>\n",
       "      <td>3936272</td>\n",
       "      <td>2016-09-23 00:00:00</td>\n",
       "    </tr>\n",
       "    <tr>\n",
       "      <td>4</td>\n",
       "      <td>8</td>\n",
       "      <td>1</td>\n",
       "      <td>ALPHABET CITY</td>\n",
       "      <td>07 RENTALS - WALKUP APARTMENTS</td>\n",
       "      <td>2A</td>\n",
       "      <td>404</td>\n",
       "      <td>55</td>\n",
       "      <td></td>\n",
       "      <td>C2</td>\n",
       "      <td>301 EAST 10TH   STREET</td>\n",
       "      <td>...</td>\n",
       "      <td>6</td>\n",
       "      <td>0</td>\n",
       "      <td>6</td>\n",
       "      <td>2369</td>\n",
       "      <td>4615</td>\n",
       "      <td>1900</td>\n",
       "      <td>2</td>\n",
       "      <td>C2</td>\n",
       "      <td>8000000</td>\n",
       "      <td>2016-11-17 00:00:00</td>\n",
       "    </tr>\n",
       "  </tbody>\n",
       "</table>\n",
       "<p>5 rows × 22 columns</p>\n",
       "</div>"
      ],
      "text/plain": [
       "   Unnamed: 0  BOROUGH   NEIGHBORHOOD  \\\n",
       "0           4        1  ALPHABET CITY   \n",
       "1           5        1  ALPHABET CITY   \n",
       "2           6        1  ALPHABET CITY   \n",
       "3           7        1  ALPHABET CITY   \n",
       "4           8        1  ALPHABET CITY   \n",
       "\n",
       "                       BUILDING CLASS CATEGORY TAX CLASS AT PRESENT  BLOCK  \\\n",
       "0  07 RENTALS - WALKUP APARTMENTS                                2A    392   \n",
       "1  07 RENTALS - WALKUP APARTMENTS                                 2    399   \n",
       "2  07 RENTALS - WALKUP APARTMENTS                                 2    399   \n",
       "3  07 RENTALS - WALKUP APARTMENTS                                2B    402   \n",
       "4  07 RENTALS - WALKUP APARTMENTS                                2A    404   \n",
       "\n",
       "   LOT EASE-MENT BUILDING CLASS AT PRESENT                 ADDRESS  ...  \\\n",
       "0    6                                  C2            153 AVENUE B  ...   \n",
       "1   26                                  C7   234 EAST 4TH   STREET  ...   \n",
       "2   39                                  C7   197 EAST 3RD   STREET  ...   \n",
       "3   21                                  C4     154 EAST 7TH STREET  ...   \n",
       "4   55                                  C2  301 EAST 10TH   STREET  ...   \n",
       "\n",
       "  RESIDENTIAL UNITS  COMMERCIAL UNITS  TOTAL UNITS  LAND SQUARE FEET  \\\n",
       "0                 5                 0            5              1633   \n",
       "1                28                 3           31              4616   \n",
       "2                16                 1           17              2212   \n",
       "3                10                 0           10              2272   \n",
       "4                 6                 0            6              2369   \n",
       "\n",
       "   GROSS SQUARE FEET YEAR BUILT TAX CLASS AT TIME OF SALE  \\\n",
       "0               6440       1900                         2   \n",
       "1              18690       1900                         2   \n",
       "2               7803       1900                         2   \n",
       "3               6794       1913                         2   \n",
       "4               4615       1900                         2   \n",
       "\n",
       "   BUILDING CLASS AT TIME OF SALE  SALE PRICE            SALE DATE  \n",
       "0                              C2     6625000  2017-07-19 00:00:00  \n",
       "1                              C7         -    2016-12-14 00:00:00  \n",
       "2                              C7         -    2016-12-09 00:00:00  \n",
       "3                              C4     3936272  2016-09-23 00:00:00  \n",
       "4                              C2     8000000  2016-11-17 00:00:00  \n",
       "\n",
       "[5 rows x 22 columns]"
      ]
     },
     "execution_count": 5,
     "metadata": {},
     "output_type": "execute_result"
    }
   ],
   "source": [
    "df.head()"
   ]
  },
  {
   "cell_type": "code",
   "execution_count": 6,
   "metadata": {},
   "outputs": [
    {
     "data": {
      "text/plain": [
       "(84548, 22)"
      ]
     },
     "execution_count": 6,
     "metadata": {},
     "output_type": "execute_result"
    }
   ],
   "source": [
    "df.shape"
   ]
  },
  {
   "cell_type": "code",
   "execution_count": 7,
   "metadata": {},
   "outputs": [],
   "source": [
    "#To see all columns \n",
    "pd.set_option('display.max_columns',500)"
   ]
  },
  {
   "cell_type": "code",
   "execution_count": 8,
   "metadata": {},
   "outputs": [
    {
     "data": {
      "text/html": [
       "<div>\n",
       "<style scoped>\n",
       "    .dataframe tbody tr th:only-of-type {\n",
       "        vertical-align: middle;\n",
       "    }\n",
       "\n",
       "    .dataframe tbody tr th {\n",
       "        vertical-align: top;\n",
       "    }\n",
       "\n",
       "    .dataframe thead th {\n",
       "        text-align: right;\n",
       "    }\n",
       "</style>\n",
       "<table border=\"1\" class=\"dataframe\">\n",
       "  <thead>\n",
       "    <tr style=\"text-align: right;\">\n",
       "      <th></th>\n",
       "      <th>Unnamed: 0</th>\n",
       "      <th>BOROUGH</th>\n",
       "      <th>NEIGHBORHOOD</th>\n",
       "      <th>BUILDING CLASS CATEGORY</th>\n",
       "      <th>TAX CLASS AT PRESENT</th>\n",
       "      <th>BLOCK</th>\n",
       "      <th>LOT</th>\n",
       "      <th>EASE-MENT</th>\n",
       "      <th>BUILDING CLASS AT PRESENT</th>\n",
       "      <th>ADDRESS</th>\n",
       "      <th>APARTMENT NUMBER</th>\n",
       "      <th>ZIP CODE</th>\n",
       "      <th>RESIDENTIAL UNITS</th>\n",
       "      <th>COMMERCIAL UNITS</th>\n",
       "      <th>TOTAL UNITS</th>\n",
       "      <th>LAND SQUARE FEET</th>\n",
       "      <th>GROSS SQUARE FEET</th>\n",
       "      <th>YEAR BUILT</th>\n",
       "      <th>TAX CLASS AT TIME OF SALE</th>\n",
       "      <th>BUILDING CLASS AT TIME OF SALE</th>\n",
       "      <th>SALE PRICE</th>\n",
       "      <th>SALE DATE</th>\n",
       "    </tr>\n",
       "  </thead>\n",
       "  <tbody>\n",
       "    <tr>\n",
       "      <td>0</td>\n",
       "      <td>4</td>\n",
       "      <td>1</td>\n",
       "      <td>ALPHABET CITY</td>\n",
       "      <td>07 RENTALS - WALKUP APARTMENTS</td>\n",
       "      <td>2A</td>\n",
       "      <td>392</td>\n",
       "      <td>6</td>\n",
       "      <td></td>\n",
       "      <td>C2</td>\n",
       "      <td>153 AVENUE B</td>\n",
       "      <td></td>\n",
       "      <td>10009</td>\n",
       "      <td>5</td>\n",
       "      <td>0</td>\n",
       "      <td>5</td>\n",
       "      <td>1633</td>\n",
       "      <td>6440</td>\n",
       "      <td>1900</td>\n",
       "      <td>2</td>\n",
       "      <td>C2</td>\n",
       "      <td>6625000</td>\n",
       "      <td>2017-07-19 00:00:00</td>\n",
       "    </tr>\n",
       "    <tr>\n",
       "      <td>1</td>\n",
       "      <td>5</td>\n",
       "      <td>1</td>\n",
       "      <td>ALPHABET CITY</td>\n",
       "      <td>07 RENTALS - WALKUP APARTMENTS</td>\n",
       "      <td>2</td>\n",
       "      <td>399</td>\n",
       "      <td>26</td>\n",
       "      <td></td>\n",
       "      <td>C7</td>\n",
       "      <td>234 EAST 4TH   STREET</td>\n",
       "      <td></td>\n",
       "      <td>10009</td>\n",
       "      <td>28</td>\n",
       "      <td>3</td>\n",
       "      <td>31</td>\n",
       "      <td>4616</td>\n",
       "      <td>18690</td>\n",
       "      <td>1900</td>\n",
       "      <td>2</td>\n",
       "      <td>C7</td>\n",
       "      <td>-</td>\n",
       "      <td>2016-12-14 00:00:00</td>\n",
       "    </tr>\n",
       "  </tbody>\n",
       "</table>\n",
       "</div>"
      ],
      "text/plain": [
       "   Unnamed: 0  BOROUGH   NEIGHBORHOOD  \\\n",
       "0           4        1  ALPHABET CITY   \n",
       "1           5        1  ALPHABET CITY   \n",
       "\n",
       "                       BUILDING CLASS CATEGORY TAX CLASS AT PRESENT  BLOCK  \\\n",
       "0  07 RENTALS - WALKUP APARTMENTS                                2A    392   \n",
       "1  07 RENTALS - WALKUP APARTMENTS                                 2    399   \n",
       "\n",
       "   LOT EASE-MENT BUILDING CLASS AT PRESENT                ADDRESS  \\\n",
       "0    6                                  C2           153 AVENUE B   \n",
       "1   26                                  C7  234 EAST 4TH   STREET   \n",
       "\n",
       "  APARTMENT NUMBER  ZIP CODE  RESIDENTIAL UNITS  COMMERCIAL UNITS  \\\n",
       "0                      10009                  5                 0   \n",
       "1                      10009                 28                 3   \n",
       "\n",
       "   TOTAL UNITS LAND SQUARE FEET GROSS SQUARE FEET  YEAR BUILT  \\\n",
       "0            5             1633              6440        1900   \n",
       "1           31             4616             18690        1900   \n",
       "\n",
       "   TAX CLASS AT TIME OF SALE BUILDING CLASS AT TIME OF SALE SALE PRICE  \\\n",
       "0                          2                             C2    6625000   \n",
       "1                          2                             C7        -     \n",
       "\n",
       "             SALE DATE  \n",
       "0  2017-07-19 00:00:00  \n",
       "1  2016-12-14 00:00:00  "
      ]
     },
     "execution_count": 8,
     "metadata": {},
     "output_type": "execute_result"
    }
   ],
   "source": [
    "df.head(2)"
   ]
  },
  {
   "cell_type": "code",
   "execution_count": 9,
   "metadata": {},
   "outputs": [],
   "source": [
    "del df['ADDRESS']\n",
    "del df['APARTMENT NUMBER']\n",
    "del df['EASE-MENT']\n",
    "del df['Unnamed: 0']\n",
    "del df['SALE DATE']\n",
    "del df['BUILDING CLASS AT PRESENT']\n",
    "del df['BUILDING CLASS AT TIME OF SALE']\n",
    "del df['NEIGHBORHOOD']"
   ]
  },
  {
   "cell_type": "code",
   "execution_count": 10,
   "metadata": {},
   "outputs": [
    {
     "data": {
      "text/plain": [
       "BOROUGH                       int64\n",
       "BUILDING CLASS CATEGORY      object\n",
       "TAX CLASS AT PRESENT         object\n",
       "BLOCK                         int64\n",
       "LOT                           int64\n",
       "ZIP CODE                      int64\n",
       "RESIDENTIAL UNITS             int64\n",
       "COMMERCIAL UNITS              int64\n",
       "TOTAL UNITS                   int64\n",
       "LAND SQUARE FEET             object\n",
       "GROSS SQUARE FEET            object\n",
       "YEAR BUILT                    int64\n",
       "TAX CLASS AT TIME OF SALE     int64\n",
       "SALE PRICE                   object\n",
       "dtype: object"
      ]
     },
     "execution_count": 10,
     "metadata": {},
     "output_type": "execute_result"
    }
   ],
   "source": [
    "df.dtypes"
   ]
  },
  {
   "cell_type": "code",
   "execution_count": 17,
   "metadata": {},
   "outputs": [],
   "source": [
    "#SALE PRICE is object but should be numeric\n",
    "df['SALE PRICE'] = pd.to_numeric(df['SALE PRICE'], errors='coerce')\n",
    "\n",
    "#LAND and GROSS SQUARE FEET is object but should be numeric\n",
    "df['LAND SQUARE FEET'] = pd.to_numeric(df['LAND SQUARE FEET'], errors='coerce')\n",
    "df['GROSS SQUARE FEET']= pd.to_numeric(df['GROSS SQUARE FEET'], errors='coerce')\n",
    "\n",
    "#Both TAX CLASS attributes should be categorical\n",
    "df['TAX CLASS AT TIME OF SALE'] = df['TAX CLASS AT TIME OF SALE'].astype('category')\n",
    "df['TAX CLASS AT PRESENT'] = df['TAX CLASS AT PRESENT'].astype('category')\n",
    "df['BOROUGH'] = df['BOROUGH'].astype('category')"
   ]
  },
  {
   "cell_type": "code",
   "execution_count": 18,
   "metadata": {},
   "outputs": [
    {
     "data": {
      "text/plain": [
       "BOROUGH                      category\n",
       "BUILDING CLASS CATEGORY        object\n",
       "TAX CLASS AT PRESENT         category\n",
       "BLOCK                           int64\n",
       "LOT                             int64\n",
       "ZIP CODE                        int64\n",
       "RESIDENTIAL UNITS               int64\n",
       "COMMERCIAL UNITS                int64\n",
       "TOTAL UNITS                     int64\n",
       "LAND SQUARE FEET              float64\n",
       "GROSS SQUARE FEET             float64\n",
       "YEAR BUILT                      int64\n",
       "TAX CLASS AT TIME OF SALE    category\n",
       "SALE PRICE                    float64\n",
       "dtype: object"
      ]
     },
     "execution_count": 18,
     "metadata": {},
     "output_type": "execute_result"
    }
   ],
   "source": [
    "df.dtypes"
   ]
  },
  {
   "cell_type": "code",
   "execution_count": 19,
   "metadata": {},
   "outputs": [
    {
     "data": {
      "text/plain": [
       "0"
      ]
     },
     "execution_count": 19,
     "metadata": {},
     "output_type": "execute_result"
    }
   ],
   "source": [
    "sum(df.duplicated(df.columns))"
   ]
  },
  {
   "cell_type": "code",
   "execution_count": 20,
   "metadata": {},
   "outputs": [
    {
     "data": {
      "text/plain": [
       "0"
      ]
     },
     "execution_count": 20,
     "metadata": {},
     "output_type": "execute_result"
    }
   ],
   "source": [
    "df = df.drop_duplicates(df.columns, keep='last')\n",
    "sum(df.duplicated(df.columns))"
   ]
  },
  {
   "cell_type": "code",
   "execution_count": 21,
   "metadata": {},
   "outputs": [
    {
     "data": {
      "text/plain": [
       "(81677, 14)"
      ]
     },
     "execution_count": 21,
     "metadata": {},
     "output_type": "execute_result"
    }
   ],
   "source": [
    "df.shape"
   ]
  },
  {
   "cell_type": "code",
   "execution_count": 22,
   "metadata": {},
   "outputs": [
    {
     "data": {
      "text/plain": [
       "Index(['BOROUGH', 'BUILDING CLASS CATEGORY', 'TAX CLASS AT PRESENT', 'BLOCK',\n",
       "       'LOT', 'ZIP CODE', 'RESIDENTIAL UNITS', 'COMMERCIAL UNITS',\n",
       "       'TOTAL UNITS', 'LAND SQUARE FEET', 'GROSS SQUARE FEET', 'YEAR BUILT',\n",
       "       'TAX CLASS AT TIME OF SALE', 'SALE PRICE'],\n",
       "      dtype='object')"
      ]
     },
     "execution_count": 22,
     "metadata": {},
     "output_type": "execute_result"
    }
   ],
   "source": [
    "df.columns"
   ]
  },
  {
   "cell_type": "code",
   "execution_count": 23,
   "metadata": {},
   "outputs": [],
   "source": [
    "df = df[df['SALE PRICE'].notnull()]"
   ]
  },
  {
   "cell_type": "code",
   "execution_count": 24,
   "metadata": {},
   "outputs": [
    {
     "data": {
      "text/plain": [
       "(68397, 14)"
      ]
     },
     "execution_count": 24,
     "metadata": {},
     "output_type": "execute_result"
    }
   ],
   "source": [
    "df.shape"
   ]
  },
  {
   "cell_type": "code",
   "execution_count": 19,
   "metadata": {},
   "outputs": [
    {
     "data": {
      "text/html": [
       "<div>\n",
       "<style scoped>\n",
       "    .dataframe tbody tr th:only-of-type {\n",
       "        vertical-align: middle;\n",
       "    }\n",
       "\n",
       "    .dataframe tbody tr th {\n",
       "        vertical-align: top;\n",
       "    }\n",
       "\n",
       "    .dataframe thead th {\n",
       "        text-align: right;\n",
       "    }\n",
       "</style>\n",
       "<table border=\"1\" class=\"dataframe\">\n",
       "  <thead>\n",
       "    <tr style=\"text-align: right;\">\n",
       "      <th></th>\n",
       "      <th>BLOCK</th>\n",
       "      <th>LOT</th>\n",
       "      <th>ZIP CODE</th>\n",
       "      <th>RESIDENTIAL UNITS</th>\n",
       "      <th>COMMERCIAL UNITS</th>\n",
       "      <th>TOTAL UNITS</th>\n",
       "      <th>LAND SQUARE FEET</th>\n",
       "      <th>GROSS SQUARE FEET</th>\n",
       "      <th>YEAR BUILT</th>\n",
       "      <th>SALE PRICE</th>\n",
       "    </tr>\n",
       "  </thead>\n",
       "  <tbody>\n",
       "    <tr>\n",
       "      <td>count</td>\n",
       "      <td>68397.000000</td>\n",
       "      <td>68397.000000</td>\n",
       "      <td>68397.000000</td>\n",
       "      <td>68397.000000</td>\n",
       "      <td>68397.000000</td>\n",
       "      <td>68397.000000</td>\n",
       "      <td>4.775200e+04</td>\n",
       "      <td>4.720400e+04</td>\n",
       "      <td>68397.000000</td>\n",
       "      <td>6.839700e+04</td>\n",
       "    </tr>\n",
       "    <tr>\n",
       "      <td>mean</td>\n",
       "      <td>4197.911619</td>\n",
       "      <td>378.091291</td>\n",
       "      <td>10737.527538</td>\n",
       "      <td>1.869146</td>\n",
       "      <td>0.165694</td>\n",
       "      <td>2.055090</td>\n",
       "      <td>3.560456e+03</td>\n",
       "      <td>3.520477e+03</td>\n",
       "      <td>1798.526675</td>\n",
       "      <td>1.298970e+06</td>\n",
       "    </tr>\n",
       "    <tr>\n",
       "      <td>std</td>\n",
       "      <td>3437.695448</td>\n",
       "      <td>659.501766</td>\n",
       "      <td>1271.877807</td>\n",
       "      <td>13.794917</td>\n",
       "      <td>9.076198</td>\n",
       "      <td>16.622344</td>\n",
       "      <td>3.999602e+04</td>\n",
       "      <td>2.917642e+04</td>\n",
       "      <td>522.278341</td>\n",
       "      <td>1.153001e+07</td>\n",
       "    </tr>\n",
       "    <tr>\n",
       "      <td>min</td>\n",
       "      <td>1.000000</td>\n",
       "      <td>1.000000</td>\n",
       "      <td>0.000000</td>\n",
       "      <td>0.000000</td>\n",
       "      <td>0.000000</td>\n",
       "      <td>0.000000</td>\n",
       "      <td>0.000000e+00</td>\n",
       "      <td>0.000000e+00</td>\n",
       "      <td>0.000000</td>\n",
       "      <td>0.000000e+00</td>\n",
       "    </tr>\n",
       "    <tr>\n",
       "      <td>25%</td>\n",
       "      <td>1348.000000</td>\n",
       "      <td>22.000000</td>\n",
       "      <td>10306.000000</td>\n",
       "      <td>0.000000</td>\n",
       "      <td>0.000000</td>\n",
       "      <td>1.000000</td>\n",
       "      <td>1.466000e+03</td>\n",
       "      <td>8.640000e+02</td>\n",
       "      <td>1920.000000</td>\n",
       "      <td>2.400000e+05</td>\n",
       "    </tr>\n",
       "    <tr>\n",
       "      <td>50%</td>\n",
       "      <td>3375.000000</td>\n",
       "      <td>50.000000</td>\n",
       "      <td>11209.000000</td>\n",
       "      <td>1.000000</td>\n",
       "      <td>0.000000</td>\n",
       "      <td>1.000000</td>\n",
       "      <td>2.162000e+03</td>\n",
       "      <td>1.620000e+03</td>\n",
       "      <td>1937.000000</td>\n",
       "      <td>5.400000e+05</td>\n",
       "    </tr>\n",
       "    <tr>\n",
       "      <td>75%</td>\n",
       "      <td>6169.000000</td>\n",
       "      <td>1001.000000</td>\n",
       "      <td>11249.000000</td>\n",
       "      <td>2.000000</td>\n",
       "      <td>0.000000</td>\n",
       "      <td>2.000000</td>\n",
       "      <td>3.108000e+03</td>\n",
       "      <td>2.508000e+03</td>\n",
       "      <td>1965.000000</td>\n",
       "      <td>9.600000e+05</td>\n",
       "    </tr>\n",
       "    <tr>\n",
       "      <td>max</td>\n",
       "      <td>16319.000000</td>\n",
       "      <td>9106.000000</td>\n",
       "      <td>11694.000000</td>\n",
       "      <td>1844.000000</td>\n",
       "      <td>2261.000000</td>\n",
       "      <td>2261.000000</td>\n",
       "      <td>4.252327e+06</td>\n",
       "      <td>3.750565e+06</td>\n",
       "      <td>2017.000000</td>\n",
       "      <td>2.210000e+09</td>\n",
       "    </tr>\n",
       "  </tbody>\n",
       "</table>\n",
       "</div>"
      ],
      "text/plain": [
       "              BLOCK           LOT      ZIP CODE  RESIDENTIAL UNITS  \\\n",
       "count  68397.000000  68397.000000  68397.000000       68397.000000   \n",
       "mean    4197.911619    378.091291  10737.527538           1.869146   \n",
       "std     3437.695448    659.501766   1271.877807          13.794917   \n",
       "min        1.000000      1.000000      0.000000           0.000000   \n",
       "25%     1348.000000     22.000000  10306.000000           0.000000   \n",
       "50%     3375.000000     50.000000  11209.000000           1.000000   \n",
       "75%     6169.000000   1001.000000  11249.000000           2.000000   \n",
       "max    16319.000000   9106.000000  11694.000000        1844.000000   \n",
       "\n",
       "       COMMERCIAL UNITS   TOTAL UNITS  LAND SQUARE FEET  GROSS SQUARE FEET  \\\n",
       "count      68397.000000  68397.000000      4.775200e+04       4.720400e+04   \n",
       "mean           0.165694      2.055090      3.560456e+03       3.520477e+03   \n",
       "std            9.076198     16.622344      3.999602e+04       2.917642e+04   \n",
       "min            0.000000      0.000000      0.000000e+00       0.000000e+00   \n",
       "25%            0.000000      1.000000      1.466000e+03       8.640000e+02   \n",
       "50%            0.000000      1.000000      2.162000e+03       1.620000e+03   \n",
       "75%            0.000000      2.000000      3.108000e+03       2.508000e+03   \n",
       "max         2261.000000   2261.000000      4.252327e+06       3.750565e+06   \n",
       "\n",
       "         YEAR BUILT    SALE PRICE  \n",
       "count  68397.000000  6.839700e+04  \n",
       "mean    1798.526675  1.298970e+06  \n",
       "std      522.278341  1.153001e+07  \n",
       "min        0.000000  0.000000e+00  \n",
       "25%     1920.000000  2.400000e+05  \n",
       "50%     1937.000000  5.400000e+05  \n",
       "75%     1965.000000  9.600000e+05  \n",
       "max     2017.000000  2.210000e+09  "
      ]
     },
     "execution_count": 19,
     "metadata": {},
     "output_type": "execute_result"
    }
   ],
   "source": [
    "df.describe()"
   ]
  },
  {
   "cell_type": "markdown",
   "metadata": {},
   "source": [
    "##### Checking for null values"
   ]
  },
  {
   "cell_type": "code",
   "execution_count": 25,
   "metadata": {},
   "outputs": [
    {
     "data": {
      "text/plain": [
       "BOROUGH                          0\n",
       "BUILDING CLASS CATEGORY          0\n",
       "TAX CLASS AT PRESENT             0\n",
       "BLOCK                            0\n",
       "LOT                              0\n",
       "ZIP CODE                         0\n",
       "RESIDENTIAL UNITS                0\n",
       "COMMERCIAL UNITS                 0\n",
       "TOTAL UNITS                      0\n",
       "LAND SQUARE FEET             20645\n",
       "GROSS SQUARE FEET            21193\n",
       "YEAR BUILT                       0\n",
       "TAX CLASS AT TIME OF SALE        0\n",
       "SALE PRICE                       0\n",
       "dtype: int64"
      ]
     },
     "execution_count": 25,
     "metadata": {},
     "output_type": "execute_result"
    }
   ],
   "source": [
    "df.isnull().sum()"
   ]
  },
  {
   "cell_type": "code",
   "execution_count": 33,
   "metadata": {},
   "outputs": [],
   "source": [
    "df['LAND SQUARE FEET']=df['LAND SQUARE FEET'].fillna(df['LAND SQUARE FEET'].mean())\n",
    "df['GROSS SQUARE FEET']=df['GROSS SQUARE FEET'].fillna(df['GROSS SQUARE FEET'].mean())"
   ]
  },
  {
   "cell_type": "code",
   "execution_count": 34,
   "metadata": {},
   "outputs": [
    {
     "data": {
      "text/plain": [
       "BOROUGH                      0\n",
       "BUILDING CLASS CATEGORY      0\n",
       "TAX CLASS AT PRESENT         0\n",
       "BLOCK                        0\n",
       "LOT                          0\n",
       "ZIP CODE                     0\n",
       "RESIDENTIAL UNITS            0\n",
       "COMMERCIAL UNITS             0\n",
       "TOTAL UNITS                  0\n",
       "LAND SQUARE FEET             0\n",
       "GROSS SQUARE FEET            0\n",
       "YEAR BUILT                   0\n",
       "TAX CLASS AT TIME OF SALE    0\n",
       "SALE PRICE                   0\n",
       "dtype: int64"
      ]
     },
     "execution_count": 34,
     "metadata": {},
     "output_type": "execute_result"
    }
   ],
   "source": [
    "df.isnull().sum()"
   ]
  },
  {
   "cell_type": "code",
   "execution_count": 35,
   "metadata": {},
   "outputs": [
    {
     "data": {
      "text/plain": [
       "(53930, 14)"
      ]
     },
     "execution_count": 35,
     "metadata": {},
     "output_type": "execute_result"
    }
   ],
   "source": [
    "df.shape"
   ]
  },
  {
   "cell_type": "code",
   "execution_count": 36,
   "metadata": {},
   "outputs": [],
   "source": [
    "df = df[(df['SALE PRICE'] > 100000) & (df['SALE PRICE'] < 5000000)]"
   ]
  },
  {
   "cell_type": "code",
   "execution_count": 37,
   "metadata": {},
   "outputs": [
    {
     "data": {
      "text/plain": [
       "(53930, 14)"
      ]
     },
     "execution_count": 37,
     "metadata": {},
     "output_type": "execute_result"
    }
   ],
   "source": [
    "df.shape"
   ]
  },
  {
   "cell_type": "markdown",
   "metadata": {},
   "source": [
    "### EDA"
   ]
  },
  {
   "cell_type": "code",
   "execution_count": 38,
   "metadata": {},
   "outputs": [
    {
     "data": {
      "text/plain": [
       "<matplotlib.axes._subplots.AxesSubplot at 0x1f35644a4c8>"
      ]
     },
     "execution_count": 38,
     "metadata": {},
     "output_type": "execute_result"
    },
    {
     "data": {
      "image/png": "[encoded data removed]",
      "text/plain": [
       "<Figure size 432x288 with 2 Axes>"
      ]
     },
     "metadata": {
      "needs_background": "light"
     },
     "output_type": "display_data"
    }
   ],
   "source": [
    "corr = df.corr()\n",
    "sns.heatmap(corr)"
   ]
  },
  {
   "cell_type": "code",
   "execution_count": 32,
   "metadata": {},
   "outputs": [
    {
     "data": {
      "text/plain": [
       "SALE PRICE           1.000000\n",
       "LOT                  0.193599\n",
       "GROSS SQUARE FEET    0.032626\n",
       "RESIDENTIAL UNITS    0.026966\n",
       "TOTAL UNITS          0.021023\n",
       "LAND SQUARE FEET     0.019758\n",
       "COMMERCIAL UNITS     0.003286\n",
       "YEAR BUILT          -0.069772\n",
       "ZIP CODE            -0.150115\n",
       "BLOCK               -0.320064\n",
       "Name: SALE PRICE, dtype: float64"
      ]
     },
     "execution_count": 32,
     "metadata": {},
     "output_type": "execute_result"
    }
   ],
   "source": [
    "corr['SALE PRICE'].sort_values(ascending=False)"
   ]
  },
  {
   "cell_type": "code",
   "execution_count": 29,
   "metadata": {},
   "outputs": [
    {
     "data": {
      "text/plain": [
       "<matplotlib.axes._subplots.AxesSubplot at 0x1fa41d130c8>"
      ]
     },
     "execution_count": 29,
     "metadata": {},
     "output_type": "execute_result"
    },
    {
     "data": {
      "image/png": "[encoded data removed]",
      "text/plain": [
       "<Figure size 432x288 with 1 Axes>"
      ]
     },
     "metadata": {
      "needs_background": "light"
     },
     "output_type": "display_data"
    }
   ],
   "source": [
    "sns.distplot(df['SALE PRICE'])"
   ]
  },
  {
   "cell_type": "code",
   "execution_count": 30,
   "metadata": {},
   "outputs": [
    {
     "data": {
      "image/png": "[encoded data removed]",
      "text/plain": [
       "<Figure size 1080x432 with 1 Axes>"
      ]
     },
     "metadata": {
      "needs_background": "light"
     },
     "output_type": "display_data"
    }
   ],
   "source": [
    "plt.figure(figsize=(15,6))\n",
    "\n",
    "# Plot the data and configure the settings\n",
    "sns.boxplot(x='SALE PRICE', data=df)\n",
    "plt.ticklabel_format(style='plain', axis='x')\n",
    "plt.title('Boxplot of SALE PRICE in USD')\n",
    "plt.show()"
   ]
  },
  {
   "cell_type": "code",
   "execution_count": 31,
   "metadata": {},
   "outputs": [
    {
     "data": {
      "image/png": "[encoded data removed]",
      "text/plain": [
       "<Figure size 720x432 with 1 Axes>"
      ]
     },
     "metadata": {
      "needs_background": "light"
     },
     "output_type": "display_data"
    }
   ],
   "source": [
    "plt.figure(figsize=(10,6))\n",
    "sns.regplot(x='GROSS SQUARE FEET', y='SALE PRICE', data=df, fit_reg=False, scatter_kws={'alpha':0.8})\n",
    "plt.title('Gross Square Feet vs Sale Price')\n",
    "plt.show()"
   ]
  },
  {
   "cell_type": "code",
   "execution_count": 32,
   "metadata": {},
   "outputs": [
    {
     "data": {
      "image/png": "[encoded data removed]",
      "text/plain": [
       "<Figure size 720x432 with 1 Axes>"
      ]
     },
     "metadata": {
      "needs_background": "light"
     },
     "output_type": "display_data"
    }
   ],
   "source": [
    "plt.figure(figsize=(10,6))\n",
    "sns.regplot(x='LAND SQUARE FEET', y='SALE PRICE', data=df, fit_reg=False, scatter_kws={'alpha':0.3})\n",
    "plt.title('Land Square Feet vs Sale Price')\n",
    "plt.show()"
   ]
  },
  {
   "cell_type": "code",
   "execution_count": 33,
   "metadata": {},
   "outputs": [
    {
     "data": {
      "image/png": "[encoded data removed]",
      "text/plain": [
       "<Figure size 720x432 with 1 Axes>"
      ]
     },
     "metadata": {
      "needs_background": "light"
     },
     "output_type": "display_data"
    }
   ],
   "source": [
    "plt.figure(figsize=(10,6))\n",
    "sns.boxplot(x='COMMERCIAL UNITS', y='SALE PRICE', data=df)\n",
    "plt.title('Commercial Units vs Sale Price')\n",
    "plt.show()"
   ]
  },
  {
   "cell_type": "code",
   "execution_count": 35,
   "metadata": {},
   "outputs": [
    {
     "data": {
      "text/plain": [
       "<matplotlib.axes._subplots.AxesSubplot at 0x1fa4304c188>"
      ]
     },
     "execution_count": 35,
     "metadata": {},
     "output_type": "execute_result"
    },
    {
     "data": {
      "image/png": "[encoded data removed]",
      "text/plain": [
       "<Figure size 432x288 with 1 Axes>"
      ]
     },
     "metadata": {
      "needs_background": "light"
     },
     "output_type": "display_data"
    }
   ],
   "source": [
    "sales=np.log(df['SALE PRICE'])\n",
    "sns.distplot(sales)"
   ]
  },
  {
   "cell_type": "code",
   "execution_count": 39,
   "metadata": {},
   "outputs": [],
   "source": [
    "df = df[df['YEAR BUILT'] > 0]"
   ]
  },
  {
   "cell_type": "code",
   "execution_count": 40,
   "metadata": {},
   "outputs": [],
   "source": [
    "df['BUILDING AGE'] = 2020 - df['YEAR BUILT']"
   ]
  },
  {
   "cell_type": "code",
   "execution_count": 39,
   "metadata": {},
   "outputs": [
    {
     "data": {
      "image/png": "[encoded data removed]",
      "text/plain": [
       "<Figure size 720x432 with 1 Axes>"
      ]
     },
     "metadata": {
      "needs_background": "light"
     },
     "output_type": "display_data"
    }
   ],
   "source": [
    "plt.figure(figsize=(10,6))\n",
    "sns.regplot(x='BUILDING AGE', y='SALE PRICE', data=df, fit_reg=False, scatter_kws={'alpha':0.1})\n",
    "plt.title('Sale Price Distribution by Building Age')\n",
    "plt.show()"
   ]
  },
  {
   "cell_type": "code",
   "execution_count": 30,
   "metadata": {},
   "outputs": [
    {
     "data": {
      "image/png": "[encoded data removed]",
      "text/plain": [
       "<Figure size 720x432 with 1 Axes>"
      ]
     },
     "metadata": {
      "needs_background": "light"
     },
     "output_type": "display_data"
    }
   ],
   "source": [
    "plt.figure(figsize=(10,6))\n",
    "sns.boxplot(x='BOROUGH', y='SALE PRICE', data=df)\n",
    "plt.title('Sale Price Distribution by Borough')\n",
    "plt.show()"
   ]
  },
  {
   "cell_type": "code",
   "execution_count": 43,
   "metadata": {},
   "outputs": [
    {
     "data": {
      "image/png": "[encoded data removed]",
      "text/plain": [
       "<Figure size 720x432 with 1 Axes>"
      ]
     },
     "metadata": {
      "needs_background": "light"
     },
     "output_type": "display_data"
    }
   ],
   "source": [
    "plt.figure(figsize=(10,6))\n",
    "order = sorted(df['BUILDING CLASS CATEGORY'].unique())\n",
    "sns.boxplot(x='BUILDING CLASS CATEGORY', y='SALE PRICE', data=df, order=order)\n",
    "plt.xticks(rotation=90)\n",
    "plt.title('Sale Price Distribution by Bulding Class Category')\n",
    "plt.show()"
   ]
  },
  {
   "cell_type": "code",
   "execution_count": 44,
   "metadata": {},
   "outputs": [
    {
     "data": {
      "text/plain": [
       "<matplotlib.axes._subplots.AxesSubplot at 0x1fa419f3048>"
      ]
     },
     "execution_count": 44,
     "metadata": {},
     "output_type": "execute_result"
    },
    {
     "data": {
      "image/png": "[encoded data removed]",
      "text/plain": [
       "<Figure size 720x432 with 1 Axes>"
      ]
     },
     "metadata": {
      "needs_background": "light"
     },
     "output_type": "display_data"
    }
   ],
   "source": [
    "plt.figure(figsize=(10,6))\n",
    "sns.boxplot(x='GROSS SQUARE FEET', data=df,showfliers=False)"
   ]
  },
  {
   "cell_type": "code",
   "execution_count": 45,
   "metadata": {},
   "outputs": [
    {
     "data": {
      "text/plain": [
       "<matplotlib.axes._subplots.AxesSubplot at 0x1fa41add788>"
      ]
     },
     "execution_count": 45,
     "metadata": {},
     "output_type": "execute_result"
    },
    {
     "data": {
      "image/png": "[encoded data removed]",
      "text/plain": [
       "<Figure size 720x432 with 1 Axes>"
      ]
     },
     "metadata": {
      "needs_background": "light"
     },
     "output_type": "display_data"
    }
   ],
   "source": [
    "plt.figure(figsize=(10,6))\n",
    "sns.boxplot(x='LAND SQUARE FEET', data=df,showfliers=False)"
   ]
  },
  {
   "cell_type": "code",
   "execution_count": 41,
   "metadata": {},
   "outputs": [],
   "source": [
    "df = df[(df['TOTAL UNITS'] > 0) & (df['TOTAL UNITS'] != 2261)] "
   ]
  },
  {
   "cell_type": "code",
   "execution_count": 42,
   "metadata": {},
   "outputs": [
    {
     "data": {
      "text/html": [
       "<div>\n",
       "<style scoped>\n",
       "    .dataframe tbody tr th:only-of-type {\n",
       "        vertical-align: middle;\n",
       "    }\n",
       "\n",
       "    .dataframe tbody tr th {\n",
       "        vertical-align: top;\n",
       "    }\n",
       "\n",
       "    .dataframe thead th {\n",
       "        text-align: right;\n",
       "    }\n",
       "</style>\n",
       "<table border=\"1\" class=\"dataframe\">\n",
       "  <thead>\n",
       "    <tr style=\"text-align: right;\">\n",
       "      <th></th>\n",
       "      <th>BLOCK</th>\n",
       "      <th>LOT</th>\n",
       "      <th>ZIP CODE</th>\n",
       "      <th>RESIDENTIAL UNITS</th>\n",
       "      <th>COMMERCIAL UNITS</th>\n",
       "      <th>TOTAL UNITS</th>\n",
       "      <th>LAND SQUARE FEET</th>\n",
       "      <th>GROSS SQUARE FEET</th>\n",
       "      <th>YEAR BUILT</th>\n",
       "      <th>SALE PRICE</th>\n",
       "      <th>BUILDING AGE</th>\n",
       "    </tr>\n",
       "  </thead>\n",
       "  <tbody>\n",
       "    <tr>\n",
       "      <td>count</td>\n",
       "      <td>36544.000000</td>\n",
       "      <td>36544.000000</td>\n",
       "      <td>36544.000000</td>\n",
       "      <td>36544.000000</td>\n",
       "      <td>36544.000000</td>\n",
       "      <td>36544.000000</td>\n",
       "      <td>3.654400e+04</td>\n",
       "      <td>3.654400e+04</td>\n",
       "      <td>36544.000000</td>\n",
       "      <td>3.654400e+04</td>\n",
       "      <td>36544.000000</td>\n",
       "    </tr>\n",
       "    <tr>\n",
       "      <td>mean</td>\n",
       "      <td>4829.180413</td>\n",
       "      <td>394.856420</td>\n",
       "      <td>10916.223894</td>\n",
       "      <td>1.784260</td>\n",
       "      <td>0.087210</td>\n",
       "      <td>1.878475</td>\n",
       "      <td>3.284972e+03</td>\n",
       "      <td>2.604259e+03</td>\n",
       "      <td>1953.035820</td>\n",
       "      <td>9.250592e+05</td>\n",
       "      <td>66.964180</td>\n",
       "    </tr>\n",
       "    <tr>\n",
       "      <td>std</td>\n",
       "      <td>3756.566044</td>\n",
       "      <td>632.403791</td>\n",
       "      <td>621.350619</td>\n",
       "      <td>11.061229</td>\n",
       "      <td>1.076209</td>\n",
       "      <td>11.218226</td>\n",
       "      <td>2.745400e+04</td>\n",
       "      <td>2.154592e+04</td>\n",
       "      <td>37.505113</td>\n",
       "      <td>7.770560e+05</td>\n",
       "      <td>37.505113</td>\n",
       "    </tr>\n",
       "    <tr>\n",
       "      <td>min</td>\n",
       "      <td>1.000000</td>\n",
       "      <td>1.000000</td>\n",
       "      <td>0.000000</td>\n",
       "      <td>0.000000</td>\n",
       "      <td>0.000000</td>\n",
       "      <td>1.000000</td>\n",
       "      <td>0.000000e+00</td>\n",
       "      <td>0.000000e+00</td>\n",
       "      <td>1800.000000</td>\n",
       "      <td>1.007000e+05</td>\n",
       "      <td>3.000000</td>\n",
       "    </tr>\n",
       "    <tr>\n",
       "      <td>25%</td>\n",
       "      <td>1636.000000</td>\n",
       "      <td>26.000000</td>\n",
       "      <td>10314.000000</td>\n",
       "      <td>1.000000</td>\n",
       "      <td>0.000000</td>\n",
       "      <td>1.000000</td>\n",
       "      <td>2.000000e+03</td>\n",
       "      <td>1.300000e+03</td>\n",
       "      <td>1925.000000</td>\n",
       "      <td>4.600000e+05</td>\n",
       "      <td>32.000000</td>\n",
       "    </tr>\n",
       "    <tr>\n",
       "      <td>50%</td>\n",
       "      <td>4209.000000</td>\n",
       "      <td>56.000000</td>\n",
       "      <td>11215.000000</td>\n",
       "      <td>1.000000</td>\n",
       "      <td>0.000000</td>\n",
       "      <td>1.000000</td>\n",
       "      <td>2.600000e+03</td>\n",
       "      <td>1.980000e+03</td>\n",
       "      <td>1945.000000</td>\n",
       "      <td>6.800000e+05</td>\n",
       "      <td>75.000000</td>\n",
       "    </tr>\n",
       "    <tr>\n",
       "      <td>75%</td>\n",
       "      <td>6949.000000</td>\n",
       "      <td>1006.000000</td>\n",
       "      <td>11362.000000</td>\n",
       "      <td>2.000000</td>\n",
       "      <td>0.000000</td>\n",
       "      <td>2.000000</td>\n",
       "      <td>3.560456e+03</td>\n",
       "      <td>3.511250e+03</td>\n",
       "      <td>1988.000000</td>\n",
       "      <td>1.050000e+06</td>\n",
       "      <td>95.000000</td>\n",
       "    </tr>\n",
       "    <tr>\n",
       "      <td>max</td>\n",
       "      <td>16319.000000</td>\n",
       "      <td>8160.000000</td>\n",
       "      <td>11694.000000</td>\n",
       "      <td>1844.000000</td>\n",
       "      <td>126.000000</td>\n",
       "      <td>1866.000000</td>\n",
       "      <td>4.228300e+06</td>\n",
       "      <td>3.750565e+06</td>\n",
       "      <td>2017.000000</td>\n",
       "      <td>4.996841e+06</td>\n",
       "      <td>220.000000</td>\n",
       "    </tr>\n",
       "  </tbody>\n",
       "</table>\n",
       "</div>"
      ],
      "text/plain": [
       "              BLOCK           LOT      ZIP CODE  RESIDENTIAL UNITS  \\\n",
       "count  36544.000000  36544.000000  36544.000000       36544.000000   \n",
       "mean    4829.180413    394.856420  10916.223894           1.784260   \n",
       "std     3756.566044    632.403791    621.350619          11.061229   \n",
       "min        1.000000      1.000000      0.000000           0.000000   \n",
       "25%     1636.000000     26.000000  10314.000000           1.000000   \n",
       "50%     4209.000000     56.000000  11215.000000           1.000000   \n",
       "75%     6949.000000   1006.000000  11362.000000           2.000000   \n",
       "max    16319.000000   8160.000000  11694.000000        1844.000000   \n",
       "\n",
       "       COMMERCIAL UNITS   TOTAL UNITS  LAND SQUARE FEET  GROSS SQUARE FEET  \\\n",
       "count      36544.000000  36544.000000      3.654400e+04       3.654400e+04   \n",
       "mean           0.087210      1.878475      3.284972e+03       2.604259e+03   \n",
       "std            1.076209     11.218226      2.745400e+04       2.154592e+04   \n",
       "min            0.000000      1.000000      0.000000e+00       0.000000e+00   \n",
       "25%            0.000000      1.000000      2.000000e+03       1.300000e+03   \n",
       "50%            0.000000      1.000000      2.600000e+03       1.980000e+03   \n",
       "75%            0.000000      2.000000      3.560456e+03       3.511250e+03   \n",
       "max          126.000000   1866.000000      4.228300e+06       3.750565e+06   \n",
       "\n",
       "         YEAR BUILT    SALE PRICE  BUILDING AGE  \n",
       "count  36544.000000  3.654400e+04  36544.000000  \n",
       "mean    1953.035820  9.250592e+05     66.964180  \n",
       "std       37.505113  7.770560e+05     37.505113  \n",
       "min     1800.000000  1.007000e+05      3.000000  \n",
       "25%     1925.000000  4.600000e+05     32.000000  \n",
       "50%     1945.000000  6.800000e+05     75.000000  \n",
       "75%     1988.000000  1.050000e+06     95.000000  \n",
       "max     2017.000000  4.996841e+06    220.000000  "
      ]
     },
     "execution_count": 42,
     "metadata": {},
     "output_type": "execute_result"
    }
   ],
   "source": [
    "numeric_data=df.select_dtypes(include=[np.number])\n",
    "numeric_data.describe()"
   ]
  },
  {
   "cell_type": "code",
   "execution_count": 43,
   "metadata": {},
   "outputs": [
    {
     "data": {
      "text/html": [
       "<div>\n",
       "<style scoped>\n",
       "    .dataframe tbody tr th:only-of-type {\n",
       "        vertical-align: middle;\n",
       "    }\n",
       "\n",
       "    .dataframe tbody tr th {\n",
       "        vertical-align: top;\n",
       "    }\n",
       "\n",
       "    .dataframe thead th {\n",
       "        text-align: right;\n",
       "    }\n",
       "</style>\n",
       "<table border=\"1\" class=\"dataframe\">\n",
       "  <thead>\n",
       "    <tr style=\"text-align: right;\">\n",
       "      <th></th>\n",
       "      <th>BOROUGH</th>\n",
       "      <th>BUILDING CLASS CATEGORY</th>\n",
       "      <th>TAX CLASS AT PRESENT</th>\n",
       "      <th>TAX CLASS AT TIME OF SALE</th>\n",
       "    </tr>\n",
       "  </thead>\n",
       "  <tbody>\n",
       "    <tr>\n",
       "      <td>count</td>\n",
       "      <td>36544</td>\n",
       "      <td>36544</td>\n",
       "      <td>36544</td>\n",
       "      <td>36544</td>\n",
       "    </tr>\n",
       "    <tr>\n",
       "      <td>unique</td>\n",
       "      <td>5</td>\n",
       "      <td>38</td>\n",
       "      <td>9</td>\n",
       "      <td>3</td>\n",
       "    </tr>\n",
       "    <tr>\n",
       "      <td>top</td>\n",
       "      <td>4</td>\n",
       "      <td>01 ONE FAMILY DWELLINGS</td>\n",
       "      <td>1</td>\n",
       "      <td>1</td>\n",
       "    </tr>\n",
       "    <tr>\n",
       "      <td>freq</td>\n",
       "      <td>12353</td>\n",
       "      <td>12408</td>\n",
       "      <td>24229</td>\n",
       "      <td>25167</td>\n",
       "    </tr>\n",
       "  </tbody>\n",
       "</table>\n",
       "</div>"
      ],
      "text/plain": [
       "        BOROUGH                      BUILDING CLASS CATEGORY  \\\n",
       "count     36544                                        36544   \n",
       "unique        5                                           38   \n",
       "top           4  01 ONE FAMILY DWELLINGS                       \n",
       "freq      12353                                        12408   \n",
       "\n",
       "       TAX CLASS AT PRESENT  TAX CLASS AT TIME OF SALE  \n",
       "count                 36544                      36544  \n",
       "unique                    9                          3  \n",
       "top                       1                          1  \n",
       "freq                  24229                      25167  "
      ]
     },
     "execution_count": 43,
     "metadata": {},
     "output_type": "execute_result"
    }
   ],
   "source": [
    "cat_data=df.select_dtypes(exclude=[np.number])\n",
    "cat_data.describe()"
   ]
  },
  {
   "cell_type": "code",
   "execution_count": 44,
   "metadata": {},
   "outputs": [
    {
     "data": {
      "text/html": [
       "<div>\n",
       "<style scoped>\n",
       "    .dataframe tbody tr th:only-of-type {\n",
       "        vertical-align: middle;\n",
       "    }\n",
       "\n",
       "    .dataframe tbody tr th {\n",
       "        vertical-align: top;\n",
       "    }\n",
       "\n",
       "    .dataframe thead th {\n",
       "        text-align: right;\n",
       "    }\n",
       "</style>\n",
       "<table border=\"1\" class=\"dataframe\">\n",
       "  <thead>\n",
       "    <tr style=\"text-align: right;\">\n",
       "      <th></th>\n",
       "      <th>SALE PRICE</th>\n",
       "    </tr>\n",
       "    <tr>\n",
       "      <th>TAX CLASS AT PRESENT</th>\n",
       "      <th></th>\n",
       "    </tr>\n",
       "  </thead>\n",
       "  <tbody>\n",
       "    <tr>\n",
       "      <td>1</td>\n",
       "      <td>599000.0</td>\n",
       "    </tr>\n",
       "    <tr>\n",
       "      <td>1A</td>\n",
       "      <td>370000.0</td>\n",
       "    </tr>\n",
       "    <tr>\n",
       "      <td>1B</td>\n",
       "      <td>650000.0</td>\n",
       "    </tr>\n",
       "    <tr>\n",
       "      <td>1C</td>\n",
       "      <td>970639.5</td>\n",
       "    </tr>\n",
       "    <tr>\n",
       "      <td>2</td>\n",
       "      <td>999000.0</td>\n",
       "    </tr>\n",
       "    <tr>\n",
       "      <td>2A</td>\n",
       "      <td>1200000.0</td>\n",
       "    </tr>\n",
       "    <tr>\n",
       "      <td>2B</td>\n",
       "      <td>1847500.0</td>\n",
       "    </tr>\n",
       "    <tr>\n",
       "      <td>2C</td>\n",
       "      <td>810000.0</td>\n",
       "    </tr>\n",
       "    <tr>\n",
       "      <td>4</td>\n",
       "      <td>1300000.0</td>\n",
       "    </tr>\n",
       "  </tbody>\n",
       "</table>\n",
       "</div>"
      ],
      "text/plain": [
       "                      SALE PRICE\n",
       "TAX CLASS AT PRESENT            \n",
       "1                       599000.0\n",
       "1A                      370000.0\n",
       "1B                      650000.0\n",
       "1C                      970639.5\n",
       "2                       999000.0\n",
       "2A                     1200000.0\n",
       "2B                     1847500.0\n",
       "2C                      810000.0\n",
       "4                      1300000.0"
      ]
     },
     "execution_count": 44,
     "metadata": {},
     "output_type": "execute_result"
    }
   ],
   "source": [
    "pivot=df.pivot_table(index='TAX CLASS AT PRESENT', values='SALE PRICE', aggfunc=np.median)\n",
    "pivot"
   ]
  },
  {
   "cell_type": "code",
   "execution_count": 49,
   "metadata": {},
   "outputs": [
    {
     "data": {
      "text/plain": [
       "<matplotlib.axes._subplots.AxesSubplot at 0x1fa42ef31c8>"
      ]
     },
     "execution_count": 49,
     "metadata": {},
     "output_type": "execute_result"
    },
    {
     "data": {
      "image/png": "[encoded data removed]",
      "text/plain": [
       "<Figure size 432x288 with 1 Axes>"
      ]
     },
     "metadata": {
      "needs_background": "light"
     },
     "output_type": "display_data"
    }
   ],
   "source": [
    "pivot.plot(kind='bar', color='black')"
   ]
  },
  {
   "cell_type": "code",
   "execution_count": 51,
   "metadata": {},
   "outputs": [
    {
     "data": {
      "text/html": [
       "<div>\n",
       "<style scoped>\n",
       "    .dataframe tbody tr th:only-of-type {\n",
       "        vertical-align: middle;\n",
       "    }\n",
       "\n",
       "    .dataframe tbody tr th {\n",
       "        vertical-align: top;\n",
       "    }\n",
       "\n",
       "    .dataframe thead th {\n",
       "        text-align: right;\n",
       "    }\n",
       "</style>\n",
       "<table border=\"1\" class=\"dataframe\">\n",
       "  <thead>\n",
       "    <tr style=\"text-align: right;\">\n",
       "      <th></th>\n",
       "      <th>SALE PRICE</th>\n",
       "    </tr>\n",
       "    <tr>\n",
       "      <th>TAX CLASS AT TIME OF SALE</th>\n",
       "      <th></th>\n",
       "    </tr>\n",
       "  </thead>\n",
       "  <tbody>\n",
       "    <tr>\n",
       "      <td>1</td>\n",
       "      <td>589950.0</td>\n",
       "    </tr>\n",
       "    <tr>\n",
       "      <td>2</td>\n",
       "      <td>1008135.5</td>\n",
       "    </tr>\n",
       "    <tr>\n",
       "      <td>4</td>\n",
       "      <td>1300000.0</td>\n",
       "    </tr>\n",
       "  </tbody>\n",
       "</table>\n",
       "</div>"
      ],
      "text/plain": [
       "                           SALE PRICE\n",
       "TAX CLASS AT TIME OF SALE            \n",
       "1                            589950.0\n",
       "2                           1008135.5\n",
       "4                           1300000.0"
      ]
     },
     "execution_count": 51,
     "metadata": {},
     "output_type": "execute_result"
    }
   ],
   "source": [
    "pivot=df.pivot_table(index='TAX CLASS AT TIME OF SALE', values='SALE PRICE', aggfunc=np.median)\n",
    "pivot"
   ]
  },
  {
   "cell_type": "code",
   "execution_count": 52,
   "metadata": {},
   "outputs": [
    {
     "data": {
      "text/plain": [
       "<matplotlib.axes._subplots.AxesSubplot at 0x1fa42b155c8>"
      ]
     },
     "execution_count": 52,
     "metadata": {},
     "output_type": "execute_result"
    },
    {
     "data": {
      "image/png": "[encoded data removed]",
      "text/plain": [
       "<Figure size 432x288 with 1 Axes>"
      ]
     },
     "metadata": {
      "needs_background": "light"
     },
     "output_type": "display_data"
    }
   ],
   "source": [
    "pivot.plot(kind='bar', color='red')"
   ]
  },
  {
   "cell_type": "code",
   "execution_count": 35,
   "metadata": {},
   "outputs": [
    {
     "data": {
      "text/html": [
       "<div>\n",
       "<style scoped>\n",
       "    .dataframe tbody tr th:only-of-type {\n",
       "        vertical-align: middle;\n",
       "    }\n",
       "\n",
       "    .dataframe tbody tr th {\n",
       "        vertical-align: top;\n",
       "    }\n",
       "\n",
       "    .dataframe thead th {\n",
       "        text-align: right;\n",
       "    }\n",
       "</style>\n",
       "<table border=\"1\" class=\"dataframe\">\n",
       "  <thead>\n",
       "    <tr style=\"text-align: right;\">\n",
       "      <th></th>\n",
       "      <th>SALE PRICE</th>\n",
       "    </tr>\n",
       "    <tr>\n",
       "      <th>BOROUGH</th>\n",
       "      <th></th>\n",
       "    </tr>\n",
       "  </thead>\n",
       "  <tbody>\n",
       "    <tr>\n",
       "      <td>1</td>\n",
       "      <td>1465000.0</td>\n",
       "    </tr>\n",
       "    <tr>\n",
       "      <td>2</td>\n",
       "      <td>480000.0</td>\n",
       "    </tr>\n",
       "    <tr>\n",
       "      <td>3</td>\n",
       "      <td>870603.0</td>\n",
       "    </tr>\n",
       "    <tr>\n",
       "      <td>4</td>\n",
       "      <td>645000.0</td>\n",
       "    </tr>\n",
       "    <tr>\n",
       "      <td>5</td>\n",
       "      <td>475000.0</td>\n",
       "    </tr>\n",
       "  </tbody>\n",
       "</table>\n",
       "</div>"
      ],
      "text/plain": [
       "         SALE PRICE\n",
       "BOROUGH            \n",
       "1         1465000.0\n",
       "2          480000.0\n",
       "3          870603.0\n",
       "4          645000.0\n",
       "5          475000.0"
      ]
     },
     "execution_count": 35,
     "metadata": {},
     "output_type": "execute_result"
    }
   ],
   "source": [
    "pivot=df.pivot_table(index='BOROUGH', values='SALE PRICE', aggfunc=np.median)\n",
    "pivot"
   ]
  },
  {
   "cell_type": "code",
   "execution_count": 54,
   "metadata": {},
   "outputs": [
    {
     "data": {
      "text/plain": [
       "<matplotlib.axes._subplots.AxesSubplot at 0x1fa42b5d708>"
      ]
     },
     "execution_count": 54,
     "metadata": {},
     "output_type": "execute_result"
    },
    {
     "data": {
      "image/png": "[encoded data removed]",
      "text/plain": [
       "<Figure size 432x288 with 1 Axes>"
      ]
     },
     "metadata": {
      "needs_background": "light"
     },
     "output_type": "display_data"
    }
   ],
   "source": [
    "pivot.plot(kind='bar', color='blue')"
   ]
  },
  {
   "cell_type": "code",
   "execution_count": 45,
   "metadata": {},
   "outputs": [
    {
     "name": "stdout",
     "output_type": "stream",
     "text": [
      "38\n"
     ]
    },
    {
     "data": {
      "text/html": [
       "<div>\n",
       "<style scoped>\n",
       "    .dataframe tbody tr th:only-of-type {\n",
       "        vertical-align: middle;\n",
       "    }\n",
       "\n",
       "    .dataframe tbody tr th {\n",
       "        vertical-align: top;\n",
       "    }\n",
       "\n",
       "    .dataframe thead th {\n",
       "        text-align: right;\n",
       "    }\n",
       "</style>\n",
       "<table border=\"1\" class=\"dataframe\">\n",
       "  <thead>\n",
       "    <tr style=\"text-align: right;\">\n",
       "      <th></th>\n",
       "      <th>SALE PRICE</th>\n",
       "    </tr>\n",
       "    <tr>\n",
       "      <th>BUILDING CLASS CATEGORY</th>\n",
       "      <th></th>\n",
       "    </tr>\n",
       "  </thead>\n",
       "  <tbody>\n",
       "    <tr>\n",
       "      <td>01 ONE FAMILY DWELLINGS</td>\n",
       "      <td>515000.0</td>\n",
       "    </tr>\n",
       "    <tr>\n",
       "      <td>02 TWO FAMILY DWELLINGS</td>\n",
       "      <td>665000.0</td>\n",
       "    </tr>\n",
       "    <tr>\n",
       "      <td>03 THREE FAMILY DWELLINGS</td>\n",
       "      <td>817833.0</td>\n",
       "    </tr>\n",
       "    <tr>\n",
       "      <td>04 TAX CLASS 1 CONDOS</td>\n",
       "      <td>399000.0</td>\n",
       "    </tr>\n",
       "    <tr>\n",
       "      <td>05 TAX CLASS 1 VACANT LAND</td>\n",
       "      <td>720000.0</td>\n",
       "    </tr>\n",
       "    <tr>\n",
       "      <td>06 TAX CLASS 1 - OTHER</td>\n",
       "      <td>500000.0</td>\n",
       "    </tr>\n",
       "    <tr>\n",
       "      <td>07 RENTALS - WALKUP APARTMENTS</td>\n",
       "      <td>1330000.0</td>\n",
       "    </tr>\n",
       "    <tr>\n",
       "      <td>08 RENTALS - ELEVATOR APARTMENTS</td>\n",
       "      <td>3560778.5</td>\n",
       "    </tr>\n",
       "    <tr>\n",
       "      <td>09 COOPS - WALKUP APARTMENTS</td>\n",
       "      <td>227500.0</td>\n",
       "    </tr>\n",
       "    <tr>\n",
       "      <td>10 COOPS - ELEVATOR APARTMENTS</td>\n",
       "      <td>289000.0</td>\n",
       "    </tr>\n",
       "    <tr>\n",
       "      <td>11A CONDO-RENTALS</td>\n",
       "      <td>1194500.0</td>\n",
       "    </tr>\n",
       "    <tr>\n",
       "      <td>12 CONDOS - WALKUP APARTMENTS</td>\n",
       "      <td>505000.0</td>\n",
       "    </tr>\n",
       "    <tr>\n",
       "      <td>13 CONDOS - ELEVATOR APARTMENTS</td>\n",
       "      <td>1030000.0</td>\n",
       "    </tr>\n",
       "    <tr>\n",
       "      <td>14 RENTALS - 4-10 UNIT</td>\n",
       "      <td>1350000.0</td>\n",
       "    </tr>\n",
       "    <tr>\n",
       "      <td>15 CONDOS - 2-10 UNIT RESIDENTIAL</td>\n",
       "      <td>807000.0</td>\n",
       "    </tr>\n",
       "    <tr>\n",
       "      <td>16 CONDOS - 2-10 UNIT WITH COMMERCIAL UNIT</td>\n",
       "      <td>1401500.0</td>\n",
       "    </tr>\n",
       "    <tr>\n",
       "      <td>21 OFFICE BUILDINGS</td>\n",
       "      <td>1159531.0</td>\n",
       "    </tr>\n",
       "    <tr>\n",
       "      <td>22 STORE BUILDINGS</td>\n",
       "      <td>1200000.0</td>\n",
       "    </tr>\n",
       "    <tr>\n",
       "      <td>23 LOFT BUILDINGS</td>\n",
       "      <td>1637500.0</td>\n",
       "    </tr>\n",
       "    <tr>\n",
       "      <td>26 OTHER HOTELS</td>\n",
       "      <td>737500.0</td>\n",
       "    </tr>\n",
       "    <tr>\n",
       "      <td>27 FACTORIES</td>\n",
       "      <td>1800000.0</td>\n",
       "    </tr>\n",
       "    <tr>\n",
       "      <td>28 COMMERCIAL CONDOS</td>\n",
       "      <td>1257919.0</td>\n",
       "    </tr>\n",
       "    <tr>\n",
       "      <td>29 COMMERCIAL GARAGES</td>\n",
       "      <td>1133275.0</td>\n",
       "    </tr>\n",
       "    <tr>\n",
       "      <td>30 WAREHOUSES</td>\n",
       "      <td>1750000.0</td>\n",
       "    </tr>\n",
       "    <tr>\n",
       "      <td>31 COMMERCIAL VACANT LAND</td>\n",
       "      <td>2027500.0</td>\n",
       "    </tr>\n",
       "    <tr>\n",
       "      <td>32 HOSPITAL AND HEALTH FACILITIES</td>\n",
       "      <td>2750000.0</td>\n",
       "    </tr>\n",
       "    <tr>\n",
       "      <td>33 EDUCATIONAL FACILITIES</td>\n",
       "      <td>825000.0</td>\n",
       "    </tr>\n",
       "    <tr>\n",
       "      <td>35 INDOOR PUBLIC AND CULTURAL FACILITIES</td>\n",
       "      <td>1300000.0</td>\n",
       "    </tr>\n",
       "    <tr>\n",
       "      <td>37 RELIGIOUS FACILITIES</td>\n",
       "      <td>997500.0</td>\n",
       "    </tr>\n",
       "    <tr>\n",
       "      <td>38 ASYLUMS AND HOMES</td>\n",
       "      <td>1948832.0</td>\n",
       "    </tr>\n",
       "    <tr>\n",
       "      <td>41 TAX CLASS 4 - OTHER</td>\n",
       "      <td>975000.0</td>\n",
       "    </tr>\n",
       "    <tr>\n",
       "      <td>42 CONDO CULTURAL/MEDICAL/EDUCATIONAL/ETC</td>\n",
       "      <td>1536603.5</td>\n",
       "    </tr>\n",
       "    <tr>\n",
       "      <td>43 CONDO OFFICE BUILDINGS</td>\n",
       "      <td>1611311.0</td>\n",
       "    </tr>\n",
       "    <tr>\n",
       "      <td>44 CONDO PARKING</td>\n",
       "      <td>162920.0</td>\n",
       "    </tr>\n",
       "    <tr>\n",
       "      <td>45 CONDO HOTELS</td>\n",
       "      <td>670000.0</td>\n",
       "    </tr>\n",
       "    <tr>\n",
       "      <td>46 CONDO STORE BUILDINGS</td>\n",
       "      <td>1087500.0</td>\n",
       "    </tr>\n",
       "    <tr>\n",
       "      <td>47 CONDO NON-BUSINESS STORAGE</td>\n",
       "      <td>119276.0</td>\n",
       "    </tr>\n",
       "    <tr>\n",
       "      <td>48 CONDO TERRACES/GARDENS/CABANAS</td>\n",
       "      <td>1333000.0</td>\n",
       "    </tr>\n",
       "  </tbody>\n",
       "</table>\n",
       "</div>"
      ],
      "text/plain": [
       "                                              SALE PRICE\n",
       "BUILDING CLASS CATEGORY                                 \n",
       "01 ONE FAMILY DWELLINGS                         515000.0\n",
       "02 TWO FAMILY DWELLINGS                         665000.0\n",
       "03 THREE FAMILY DWELLINGS                       817833.0\n",
       "04 TAX CLASS 1 CONDOS                           399000.0\n",
       "05 TAX CLASS 1 VACANT LAND                      720000.0\n",
       "06 TAX CLASS 1 - OTHER                          500000.0\n",
       "07 RENTALS - WALKUP APARTMENTS                 1330000.0\n",
       "08 RENTALS - ELEVATOR APARTMENTS               3560778.5\n",
       "09 COOPS - WALKUP APARTMENTS                    227500.0\n",
       "10 COOPS - ELEVATOR APARTMENTS                  289000.0\n",
       "11A CONDO-RENTALS                              1194500.0\n",
       "12 CONDOS - WALKUP APARTMENTS                   505000.0\n",
       "13 CONDOS - ELEVATOR APARTMENTS                1030000.0\n",
       "14 RENTALS - 4-10 UNIT                         1350000.0\n",
       "15 CONDOS - 2-10 UNIT RESIDENTIAL               807000.0\n",
       "16 CONDOS - 2-10 UNIT WITH COMMERCIAL UNIT     1401500.0\n",
       "21 OFFICE BUILDINGS                            1159531.0\n",
       "22 STORE BUILDINGS                             1200000.0\n",
       "23 LOFT BUILDINGS                              1637500.0\n",
       "26 OTHER HOTELS                                 737500.0\n",
       "27 FACTORIES                                   1800000.0\n",
       "28 COMMERCIAL CONDOS                           1257919.0\n",
       "29 COMMERCIAL GARAGES                          1133275.0\n",
       "30 WAREHOUSES                                  1750000.0\n",
       "31 COMMERCIAL VACANT LAND                      2027500.0\n",
       "32 HOSPITAL AND HEALTH FACILITIES              2750000.0\n",
       "33 EDUCATIONAL FACILITIES                       825000.0\n",
       "35 INDOOR PUBLIC AND CULTURAL FACILITIES       1300000.0\n",
       "37 RELIGIOUS FACILITIES                         997500.0\n",
       "38 ASYLUMS AND HOMES                           1948832.0\n",
       "41 TAX CLASS 4 - OTHER                          975000.0\n",
       "42 CONDO CULTURAL/MEDICAL/EDUCATIONAL/ETC      1536603.5\n",
       "43 CONDO OFFICE BUILDINGS                      1611311.0\n",
       "44 CONDO PARKING                                162920.0\n",
       "45 CONDO HOTELS                                 670000.0\n",
       "46 CONDO STORE BUILDINGS                       1087500.0\n",
       "47 CONDO NON-BUSINESS STORAGE                   119276.0\n",
       "48 CONDO TERRACES/GARDENS/CABANAS              1333000.0"
      ]
     },
     "execution_count": 45,
     "metadata": {},
     "output_type": "execute_result"
    }
   ],
   "source": [
    "print(df['BUILDING CLASS CATEGORY'].nunique())\n",
    "\n",
    "pivot=df.pivot_table(index='BUILDING CLASS CATEGORY', values='SALE PRICE', aggfunc=np.median)\n",
    "pivot"
   ]
  },
  {
   "cell_type": "code",
   "execution_count": 57,
   "metadata": {},
   "outputs": [
    {
     "data": {
      "text/plain": [
       "<matplotlib.axes._subplots.AxesSubplot at 0x1fa42c00cc8>"
      ]
     },
     "execution_count": 57,
     "metadata": {},
     "output_type": "execute_result"
    },
    {
     "data": {
      "image/png": "[encoded data removed]",
      "text/plain": [
       "<Figure size 432x288 with 1 Axes>"
      ]
     },
     "metadata": {
      "needs_background": "light"
     },
     "output_type": "display_data"
    }
   ],
   "source": [
    "pivot.plot(kind='bar', color='Green')"
   ]
  },
  {
   "cell_type": "code",
   "execution_count": 46,
   "metadata": {},
   "outputs": [
    {
     "data": {
      "text/plain": [
       "(36544, 15)"
      ]
     },
     "execution_count": 46,
     "metadata": {},
     "output_type": "execute_result"
    }
   ],
   "source": [
    "df.shape"
   ]
  },
  {
   "cell_type": "code",
   "execution_count": 47,
   "metadata": {},
   "outputs": [
    {
     "data": {
      "text/plain": [
       "Index(['BLOCK', 'LOT', 'ZIP CODE', 'RESIDENTIAL UNITS', 'COMMERCIAL UNITS',\n",
       "       'TOTAL UNITS', 'LAND SQUARE FEET', 'GROSS SQUARE FEET', 'YEAR BUILT',\n",
       "       'SALE PRICE', 'BUILDING AGE'],\n",
       "      dtype='object')"
      ]
     },
     "execution_count": 47,
     "metadata": {},
     "output_type": "execute_result"
    }
   ],
   "source": [
    "numeric_data.columns"
   ]
  },
  {
   "cell_type": "code",
   "execution_count": 48,
   "metadata": {},
   "outputs": [],
   "source": [
    "#transform the numeric features using log(x + 1)\n",
    "from scipy.stats import skew\n",
    "skewed = df[numeric_data.columns].apply(lambda x: skew(x.dropna().astype(float)))\n",
    "skewed = skewed[skewed > 0.75]"
   ]
  },
  {
   "cell_type": "code",
   "execution_count": 49,
   "metadata": {},
   "outputs": [],
   "source": [
    "skewed = skewed.index\n",
    "df[skewed] = np.log1p(df[skewed])"
   ]
  },
  {
   "cell_type": "code",
   "execution_count": 50,
   "metadata": {},
   "outputs": [
    {
     "data": {
      "text/html": [
       "<div>\n",
       "<style scoped>\n",
       "    .dataframe tbody tr th:only-of-type {\n",
       "        vertical-align: middle;\n",
       "    }\n",
       "\n",
       "    .dataframe tbody tr th {\n",
       "        vertical-align: top;\n",
       "    }\n",
       "\n",
       "    .dataframe thead th {\n",
       "        text-align: right;\n",
       "    }\n",
       "</style>\n",
       "<table border=\"1\" class=\"dataframe\">\n",
       "  <thead>\n",
       "    <tr style=\"text-align: right;\">\n",
       "      <th></th>\n",
       "      <th>BOROUGH</th>\n",
       "      <th>BUILDING CLASS CATEGORY</th>\n",
       "      <th>TAX CLASS AT PRESENT</th>\n",
       "      <th>BLOCK</th>\n",
       "      <th>LOT</th>\n",
       "      <th>ZIP CODE</th>\n",
       "      <th>RESIDENTIAL UNITS</th>\n",
       "      <th>COMMERCIAL UNITS</th>\n",
       "      <th>TOTAL UNITS</th>\n",
       "      <th>LAND SQUARE FEET</th>\n",
       "      <th>GROSS SQUARE FEET</th>\n",
       "      <th>YEAR BUILT</th>\n",
       "      <th>TAX CLASS AT TIME OF SALE</th>\n",
       "      <th>SALE PRICE</th>\n",
       "      <th>BUILDING AGE</th>\n",
       "    </tr>\n",
       "  </thead>\n",
       "  <tbody>\n",
       "    <tr>\n",
       "      <td>3</td>\n",
       "      <td>1</td>\n",
       "      <td>07 RENTALS - WALKUP APARTMENTS</td>\n",
       "      <td>2B</td>\n",
       "      <td>5.998937</td>\n",
       "      <td>3.091042</td>\n",
       "      <td>10009</td>\n",
       "      <td>2.397895</td>\n",
       "      <td>0.0</td>\n",
       "      <td>2.397895</td>\n",
       "      <td>7.728856</td>\n",
       "      <td>8.823942</td>\n",
       "      <td>1913</td>\n",
       "      <td>2</td>\n",
       "      <td>15.185745</td>\n",
       "      <td>107</td>\n",
       "    </tr>\n",
       "    <tr>\n",
       "      <td>6</td>\n",
       "      <td>1</td>\n",
       "      <td>07 RENTALS - WALKUP APARTMENTS</td>\n",
       "      <td>2B</td>\n",
       "      <td>6.008813</td>\n",
       "      <td>3.496508</td>\n",
       "      <td>10009</td>\n",
       "      <td>2.197225</td>\n",
       "      <td>0.0</td>\n",
       "      <td>2.197225</td>\n",
       "      <td>7.467942</td>\n",
       "      <td>8.349248</td>\n",
       "      <td>1920</td>\n",
       "      <td>2</td>\n",
       "      <td>14.976422</td>\n",
       "      <td>100</td>\n",
       "    </tr>\n",
       "  </tbody>\n",
       "</table>\n",
       "</div>"
      ],
      "text/plain": [
       "  BOROUGH                      BUILDING CLASS CATEGORY TAX CLASS AT PRESENT  \\\n",
       "3       1  07 RENTALS - WALKUP APARTMENTS                                2B   \n",
       "6       1  07 RENTALS - WALKUP APARTMENTS                                2B   \n",
       "\n",
       "      BLOCK       LOT  ZIP CODE  RESIDENTIAL UNITS  COMMERCIAL UNITS  \\\n",
       "3  5.998937  3.091042     10009           2.397895               0.0   \n",
       "6  6.008813  3.496508     10009           2.197225               0.0   \n",
       "\n",
       "   TOTAL UNITS  LAND SQUARE FEET  GROSS SQUARE FEET  YEAR BUILT  \\\n",
       "3     2.397895          7.728856           8.823942        1913   \n",
       "6     2.197225          7.467942           8.349248        1920   \n",
       "\n",
       "  TAX CLASS AT TIME OF SALE  SALE PRICE  BUILDING AGE  \n",
       "3                         2   15.185745           107  \n",
       "6                         2   14.976422           100  "
      ]
     },
     "execution_count": 50,
     "metadata": {},
     "output_type": "execute_result"
    }
   ],
   "source": [
    "df.head(2)"
   ]
  },
  {
   "cell_type": "code",
   "execution_count": 51,
   "metadata": {},
   "outputs": [],
   "source": [
    "df.drop('ZIP CODE',axis=1,inplace=True)"
   ]
  },
  {
   "cell_type": "code",
   "execution_count": 52,
   "metadata": {},
   "outputs": [],
   "source": [
    "df.drop('YEAR BUILT',axis=1,inplace=True)"
   ]
  },
  {
   "cell_type": "code",
   "execution_count": 53,
   "metadata": {},
   "outputs": [
    {
     "data": {
      "text/html": [
       "<div>\n",
       "<style scoped>\n",
       "    .dataframe tbody tr th:only-of-type {\n",
       "        vertical-align: middle;\n",
       "    }\n",
       "\n",
       "    .dataframe tbody tr th {\n",
       "        vertical-align: top;\n",
       "    }\n",
       "\n",
       "    .dataframe thead th {\n",
       "        text-align: right;\n",
       "    }\n",
       "</style>\n",
       "<table border=\"1\" class=\"dataframe\">\n",
       "  <thead>\n",
       "    <tr style=\"text-align: right;\">\n",
       "      <th></th>\n",
       "      <th>BOROUGH</th>\n",
       "      <th>BUILDING CLASS CATEGORY</th>\n",
       "      <th>TAX CLASS AT PRESENT</th>\n",
       "      <th>BLOCK</th>\n",
       "      <th>LOT</th>\n",
       "      <th>RESIDENTIAL UNITS</th>\n",
       "      <th>COMMERCIAL UNITS</th>\n",
       "      <th>TOTAL UNITS</th>\n",
       "      <th>LAND SQUARE FEET</th>\n",
       "      <th>GROSS SQUARE FEET</th>\n",
       "      <th>TAX CLASS AT TIME OF SALE</th>\n",
       "      <th>SALE PRICE</th>\n",
       "      <th>BUILDING AGE</th>\n",
       "    </tr>\n",
       "  </thead>\n",
       "  <tbody>\n",
       "    <tr>\n",
       "      <td>3</td>\n",
       "      <td>1</td>\n",
       "      <td>07 RENTALS - WALKUP APARTMENTS</td>\n",
       "      <td>2B</td>\n",
       "      <td>5.998937</td>\n",
       "      <td>3.091042</td>\n",
       "      <td>2.397895</td>\n",
       "      <td>0.0</td>\n",
       "      <td>2.397895</td>\n",
       "      <td>7.728856</td>\n",
       "      <td>8.823942</td>\n",
       "      <td>2</td>\n",
       "      <td>15.185745</td>\n",
       "      <td>107</td>\n",
       "    </tr>\n",
       "    <tr>\n",
       "      <td>6</td>\n",
       "      <td>1</td>\n",
       "      <td>07 RENTALS - WALKUP APARTMENTS</td>\n",
       "      <td>2B</td>\n",
       "      <td>6.008813</td>\n",
       "      <td>3.496508</td>\n",
       "      <td>2.197225</td>\n",
       "      <td>0.0</td>\n",
       "      <td>2.197225</td>\n",
       "      <td>7.467942</td>\n",
       "      <td>8.349248</td>\n",
       "      <td>2</td>\n",
       "      <td>14.976422</td>\n",
       "      <td>100</td>\n",
       "    </tr>\n",
       "  </tbody>\n",
       "</table>\n",
       "</div>"
      ],
      "text/plain": [
       "  BOROUGH                      BUILDING CLASS CATEGORY TAX CLASS AT PRESENT  \\\n",
       "3       1  07 RENTALS - WALKUP APARTMENTS                                2B   \n",
       "6       1  07 RENTALS - WALKUP APARTMENTS                                2B   \n",
       "\n",
       "      BLOCK       LOT  RESIDENTIAL UNITS  COMMERCIAL UNITS  TOTAL UNITS  \\\n",
       "3  5.998937  3.091042           2.397895               0.0     2.397895   \n",
       "6  6.008813  3.496508           2.197225               0.0     2.197225   \n",
       "\n",
       "   LAND SQUARE FEET  GROSS SQUARE FEET TAX CLASS AT TIME OF SALE  SALE PRICE  \\\n",
       "3          7.728856           8.823942                         2   15.185745   \n",
       "6          7.467942           8.349248                         2   14.976422   \n",
       "\n",
       "   BUILDING AGE  \n",
       "3           107  \n",
       "6           100  "
      ]
     },
     "execution_count": 53,
     "metadata": {},
     "output_type": "execute_result"
    }
   ],
   "source": [
    "df.head(2)"
   ]
  },
  {
   "cell_type": "code",
   "execution_count": 54,
   "metadata": {},
   "outputs": [
    {
     "data": {
      "text/plain": [
       "BOROUGH                      category\n",
       "BUILDING CLASS CATEGORY        object\n",
       "TAX CLASS AT PRESENT         category\n",
       "BLOCK                         float64\n",
       "LOT                           float64\n",
       "RESIDENTIAL UNITS             float64\n",
       "COMMERCIAL UNITS              float64\n",
       "TOTAL UNITS                   float64\n",
       "LAND SQUARE FEET              float64\n",
       "GROSS SQUARE FEET             float64\n",
       "TAX CLASS AT TIME OF SALE    category\n",
       "SALE PRICE                    float64\n",
       "BUILDING AGE                    int64\n",
       "dtype: object"
      ]
     },
     "execution_count": 54,
     "metadata": {},
     "output_type": "execute_result"
    }
   ],
   "source": [
    "df.dtypes"
   ]
  },
  {
   "cell_type": "code",
   "execution_count": 47,
   "metadata": {},
   "outputs": [],
   "source": []
  },
  {
   "cell_type": "code",
   "execution_count": 55,
   "metadata": {},
   "outputs": [
    {
     "data": {
      "text/html": [
       "<div>\n",
       "<style scoped>\n",
       "    .dataframe tbody tr th:only-of-type {\n",
       "        vertical-align: middle;\n",
       "    }\n",
       "\n",
       "    .dataframe tbody tr th {\n",
       "        vertical-align: top;\n",
       "    }\n",
       "\n",
       "    .dataframe thead th {\n",
       "        text-align: right;\n",
       "    }\n",
       "</style>\n",
       "<table border=\"1\" class=\"dataframe\">\n",
       "  <thead>\n",
       "    <tr style=\"text-align: right;\">\n",
       "      <th></th>\n",
       "      <th>BOROUGH</th>\n",
       "      <th>BUILDING CLASS CATEGORY</th>\n",
       "      <th>TAX CLASS AT PRESENT</th>\n",
       "      <th>TAX CLASS AT TIME OF SALE</th>\n",
       "    </tr>\n",
       "  </thead>\n",
       "  <tbody>\n",
       "    <tr>\n",
       "      <td>count</td>\n",
       "      <td>36544</td>\n",
       "      <td>36544</td>\n",
       "      <td>36544</td>\n",
       "      <td>36544</td>\n",
       "    </tr>\n",
       "    <tr>\n",
       "      <td>unique</td>\n",
       "      <td>5</td>\n",
       "      <td>38</td>\n",
       "      <td>9</td>\n",
       "      <td>3</td>\n",
       "    </tr>\n",
       "    <tr>\n",
       "      <td>top</td>\n",
       "      <td>4</td>\n",
       "      <td>01 ONE FAMILY DWELLINGS</td>\n",
       "      <td>1</td>\n",
       "      <td>1</td>\n",
       "    </tr>\n",
       "    <tr>\n",
       "      <td>freq</td>\n",
       "      <td>12353</td>\n",
       "      <td>12408</td>\n",
       "      <td>24229</td>\n",
       "      <td>25167</td>\n",
       "    </tr>\n",
       "  </tbody>\n",
       "</table>\n",
       "</div>"
      ],
      "text/plain": [
       "        BOROUGH                      BUILDING CLASS CATEGORY  \\\n",
       "count     36544                                        36544   \n",
       "unique        5                                           38   \n",
       "top           4  01 ONE FAMILY DWELLINGS                       \n",
       "freq      12353                                        12408   \n",
       "\n",
       "       TAX CLASS AT PRESENT  TAX CLASS AT TIME OF SALE  \n",
       "count                 36544                      36544  \n",
       "unique                    9                          3  \n",
       "top                       1                          1  \n",
       "freq                  24229                      25167  "
      ]
     },
     "execution_count": 55,
     "metadata": {},
     "output_type": "execute_result"
    }
   ],
   "source": [
    "cat_data=df.select_dtypes(exclude=[np.number])\n",
    "cat_data.describe()"
   ]
  },
  {
   "cell_type": "code",
   "execution_count": 56,
   "metadata": {},
   "outputs": [],
   "source": [
    "categorical=cat_data.columns"
   ]
  },
  {
   "cell_type": "code",
   "execution_count": 57,
   "metadata": {},
   "outputs": [
    {
     "data": {
      "text/plain": [
       "['BLOCK',\n",
       " 'LOT',\n",
       " 'RESIDENTIAL UNITS',\n",
       " 'COMMERCIAL UNITS',\n",
       " 'TOTAL UNITS',\n",
       " 'LAND SQUARE FEET',\n",
       " 'GROSS SQUARE FEET',\n",
       " 'BUILDING AGE']"
      ]
     },
     "execution_count": 57,
     "metadata": {},
     "output_type": "execute_result"
    }
   ],
   "source": [
    "numerical = [col for col in df.columns if col not in categorical and col != 'SALE PRICE']\n",
    "numerical"
   ]
  },
  {
   "cell_type": "code",
   "execution_count": 59,
   "metadata": {},
   "outputs": [
    {
     "data": {
      "text/plain": [
       "(36544, 13)"
      ]
     },
     "execution_count": 59,
     "metadata": {},
     "output_type": "execute_result"
    }
   ],
   "source": [
    "df.shape"
   ]
  },
  {
   "cell_type": "markdown",
   "metadata": {},
   "source": [
    "#### Separating Input and output variables "
   ]
  },
  {
   "cell_type": "code",
   "execution_count": 60,
   "metadata": {},
   "outputs": [],
   "source": [
    "X = df.drop(['SALE PRICE'], axis=1)\n",
    "\n",
    "y = df['SALE PRICE']"
   ]
  },
  {
   "cell_type": "code",
   "execution_count": 61,
   "metadata": {},
   "outputs": [],
   "source": [
    "y=y.to_frame()"
   ]
  },
  {
   "cell_type": "code",
   "execution_count": 62,
   "metadata": {},
   "outputs": [
    {
     "data": {
      "text/html": [
       "<div>\n",
       "<style scoped>\n",
       "    .dataframe tbody tr th:only-of-type {\n",
       "        vertical-align: middle;\n",
       "    }\n",
       "\n",
       "    .dataframe tbody tr th {\n",
       "        vertical-align: top;\n",
       "    }\n",
       "\n",
       "    .dataframe thead th {\n",
       "        text-align: right;\n",
       "    }\n",
       "</style>\n",
       "<table border=\"1\" class=\"dataframe\">\n",
       "  <thead>\n",
       "    <tr style=\"text-align: right;\">\n",
       "      <th></th>\n",
       "      <th>SALE PRICE</th>\n",
       "    </tr>\n",
       "  </thead>\n",
       "  <tbody>\n",
       "    <tr>\n",
       "      <td>3</td>\n",
       "      <td>15.185745</td>\n",
       "    </tr>\n",
       "    <tr>\n",
       "      <td>6</td>\n",
       "      <td>14.976422</td>\n",
       "    </tr>\n",
       "    <tr>\n",
       "      <td>79</td>\n",
       "      <td>13.544581</td>\n",
       "    </tr>\n",
       "    <tr>\n",
       "      <td>80</td>\n",
       "      <td>13.557843</td>\n",
       "    </tr>\n",
       "    <tr>\n",
       "      <td>81</td>\n",
       "      <td>13.849797</td>\n",
       "    </tr>\n",
       "    <tr>\n",
       "      <td>...</td>\n",
       "      <td>...</td>\n",
       "    </tr>\n",
       "    <tr>\n",
       "      <td>84540</td>\n",
       "      <td>13.140205</td>\n",
       "    </tr>\n",
       "    <tr>\n",
       "      <td>84541</td>\n",
       "      <td>13.381648</td>\n",
       "    </tr>\n",
       "    <tr>\n",
       "      <td>84543</td>\n",
       "      <td>13.017005</td>\n",
       "    </tr>\n",
       "    <tr>\n",
       "      <td>84544</td>\n",
       "      <td>13.217675</td>\n",
       "    </tr>\n",
       "    <tr>\n",
       "      <td>84545</td>\n",
       "      <td>13.038984</td>\n",
       "    </tr>\n",
       "  </tbody>\n",
       "</table>\n",
       "<p>36544 rows × 1 columns</p>\n",
       "</div>"
      ],
      "text/plain": [
       "       SALE PRICE\n",
       "3       15.185745\n",
       "6       14.976422\n",
       "79      13.544581\n",
       "80      13.557843\n",
       "81      13.849797\n",
       "...           ...\n",
       "84540   13.140205\n",
       "84541   13.381648\n",
       "84543   13.017005\n",
       "84544   13.217675\n",
       "84545   13.038984\n",
       "\n",
       "[36544 rows x 1 columns]"
      ]
     },
     "execution_count": 62,
     "metadata": {},
     "output_type": "execute_result"
    }
   ],
   "source": [
    "y"
   ]
  },
  {
   "cell_type": "markdown",
   "metadata": {},
   "source": [
    "#### Scaling Numerical variables"
   ]
  },
  {
   "cell_type": "code",
   "execution_count": 63,
   "metadata": {},
   "outputs": [],
   "source": [
    "scaler = StandardScaler()\n",
    "scaler.fit(X[numerical])\n",
    "X[numerical]=scaler.transform(X[numerical])"
   ]
  },
  {
   "cell_type": "code",
   "execution_count": 64,
   "metadata": {},
   "outputs": [],
   "source": [
    "scaler1 = StandardScaler()\n",
    "scaler1.fit(y)\n",
    "y=scaler1.transform(y)"
   ]
  },
  {
   "cell_type": "code",
   "execution_count": 57,
   "metadata": {},
   "outputs": [
    {
     "data": {
      "text/plain": [
       "array([[ 2.48886672],\n",
       "       [ 2.18220971],\n",
       "       [ 0.08457302],\n",
       "       ...,\n",
       "       [-0.68832148],\n",
       "       [-0.39434095],\n",
       "       [-0.65612261]])"
      ]
     },
     "execution_count": 57,
     "metadata": {},
     "output_type": "execute_result"
    }
   ],
   "source": [
    "y"
   ]
  },
  {
   "cell_type": "code",
   "execution_count": 65,
   "metadata": {},
   "outputs": [],
   "source": [
    "X = pd.get_dummies(columns=categorical,data=X,drop_first=True)"
   ]
  },
  {
   "cell_type": "code",
   "execution_count": 66,
   "metadata": {},
   "outputs": [
    {
     "data": {
      "text/html": [
       "<div>\n",
       "<style scoped>\n",
       "    .dataframe tbody tr th:only-of-type {\n",
       "        vertical-align: middle;\n",
       "    }\n",
       "\n",
       "    .dataframe tbody tr th {\n",
       "        vertical-align: top;\n",
       "    }\n",
       "\n",
       "    .dataframe thead th {\n",
       "        text-align: right;\n",
       "    }\n",
       "</style>\n",
       "<table border=\"1\" class=\"dataframe\">\n",
       "  <thead>\n",
       "    <tr style=\"text-align: right;\">\n",
       "      <th></th>\n",
       "      <th>BLOCK</th>\n",
       "      <th>LOT</th>\n",
       "      <th>RESIDENTIAL UNITS</th>\n",
       "      <th>COMMERCIAL UNITS</th>\n",
       "      <th>TOTAL UNITS</th>\n",
       "      <th>LAND SQUARE FEET</th>\n",
       "      <th>GROSS SQUARE FEET</th>\n",
       "      <th>BUILDING AGE</th>\n",
       "      <th>BOROUGH_2</th>\n",
       "      <th>BOROUGH_3</th>\n",
       "      <th>BOROUGH_4</th>\n",
       "      <th>BOROUGH_5</th>\n",
       "      <th>BUILDING CLASS CATEGORY_02 TWO FAMILY DWELLINGS</th>\n",
       "      <th>BUILDING CLASS CATEGORY_03 THREE FAMILY DWELLINGS</th>\n",
       "      <th>BUILDING CLASS CATEGORY_04 TAX CLASS 1 CONDOS</th>\n",
       "      <th>BUILDING CLASS CATEGORY_05 TAX CLASS 1 VACANT LAND</th>\n",
       "      <th>BUILDING CLASS CATEGORY_06 TAX CLASS 1 - OTHER</th>\n",
       "      <th>BUILDING CLASS CATEGORY_07 RENTALS - WALKUP APARTMENTS</th>\n",
       "      <th>BUILDING CLASS CATEGORY_08 RENTALS - ELEVATOR APARTMENTS</th>\n",
       "      <th>BUILDING CLASS CATEGORY_09 COOPS - WALKUP APARTMENTS</th>\n",
       "      <th>BUILDING CLASS CATEGORY_10 COOPS - ELEVATOR APARTMENTS</th>\n",
       "      <th>BUILDING CLASS CATEGORY_11A CONDO-RENTALS</th>\n",
       "      <th>BUILDING CLASS CATEGORY_12 CONDOS - WALKUP APARTMENTS</th>\n",
       "      <th>BUILDING CLASS CATEGORY_13 CONDOS - ELEVATOR APARTMENTS</th>\n",
       "      <th>BUILDING CLASS CATEGORY_14 RENTALS - 4-10 UNIT</th>\n",
       "      <th>BUILDING CLASS CATEGORY_15 CONDOS - 2-10 UNIT RESIDENTIAL</th>\n",
       "      <th>BUILDING CLASS CATEGORY_16 CONDOS - 2-10 UNIT WITH COMMERCIAL UNIT</th>\n",
       "      <th>BUILDING CLASS CATEGORY_21 OFFICE BUILDINGS</th>\n",
       "      <th>BUILDING CLASS CATEGORY_22 STORE BUILDINGS</th>\n",
       "      <th>BUILDING CLASS CATEGORY_23 LOFT BUILDINGS</th>\n",
       "      <th>BUILDING CLASS CATEGORY_26 OTHER HOTELS</th>\n",
       "      <th>BUILDING CLASS CATEGORY_27 FACTORIES</th>\n",
       "      <th>BUILDING CLASS CATEGORY_28 COMMERCIAL CONDOS</th>\n",
       "      <th>BUILDING CLASS CATEGORY_29 COMMERCIAL GARAGES</th>\n",
       "      <th>BUILDING CLASS CATEGORY_30 WAREHOUSES</th>\n",
       "      <th>BUILDING CLASS CATEGORY_31 COMMERCIAL VACANT LAND</th>\n",
       "      <th>BUILDING CLASS CATEGORY_32 HOSPITAL AND HEALTH FACILITIES</th>\n",
       "      <th>BUILDING CLASS CATEGORY_33 EDUCATIONAL FACILITIES</th>\n",
       "      <th>BUILDING CLASS CATEGORY_35 INDOOR PUBLIC AND CULTURAL FACILITIES</th>\n",
       "      <th>BUILDING CLASS CATEGORY_37 RELIGIOUS FACILITIES</th>\n",
       "      <th>BUILDING CLASS CATEGORY_38 ASYLUMS AND HOMES</th>\n",
       "      <th>BUILDING CLASS CATEGORY_41 TAX CLASS 4 - OTHER</th>\n",
       "      <th>BUILDING CLASS CATEGORY_42 CONDO CULTURAL/MEDICAL/EDUCATIONAL/ETC</th>\n",
       "      <th>BUILDING CLASS CATEGORY_43 CONDO OFFICE BUILDINGS</th>\n",
       "      <th>BUILDING CLASS CATEGORY_44 CONDO PARKING</th>\n",
       "      <th>BUILDING CLASS CATEGORY_45 CONDO HOTELS</th>\n",
       "      <th>BUILDING CLASS CATEGORY_46 CONDO STORE BUILDINGS</th>\n",
       "      <th>BUILDING CLASS CATEGORY_47 CONDO NON-BUSINESS STORAGE</th>\n",
       "      <th>BUILDING CLASS CATEGORY_48 CONDO TERRACES/GARDENS/CABANAS</th>\n",
       "      <th>TAX CLASS AT PRESENT_1</th>\n",
       "      <th>TAX CLASS AT PRESENT_1A</th>\n",
       "      <th>TAX CLASS AT PRESENT_1B</th>\n",
       "      <th>TAX CLASS AT PRESENT_1C</th>\n",
       "      <th>TAX CLASS AT PRESENT_2</th>\n",
       "      <th>TAX CLASS AT PRESENT_2A</th>\n",
       "      <th>TAX CLASS AT PRESENT_2B</th>\n",
       "      <th>TAX CLASS AT PRESENT_2C</th>\n",
       "      <th>TAX CLASS AT PRESENT_3</th>\n",
       "      <th>TAX CLASS AT PRESENT_4</th>\n",
       "      <th>TAX CLASS AT TIME OF SALE_2</th>\n",
       "      <th>TAX CLASS AT TIME OF SALE_3</th>\n",
       "      <th>TAX CLASS AT TIME OF SALE_4</th>\n",
       "    </tr>\n",
       "  </thead>\n",
       "  <tbody>\n",
       "    <tr>\n",
       "      <td>3</td>\n",
       "      <td>-1.610112</td>\n",
       "      <td>-0.796694</td>\n",
       "      <td>3.999849</td>\n",
       "      <td>-0.218253</td>\n",
       "      <td>4.078001</td>\n",
       "      <td>0.197387</td>\n",
       "      <td>0.812930</td>\n",
       "      <td>1.067491</td>\n",
       "      <td>0</td>\n",
       "      <td>0</td>\n",
       "      <td>0</td>\n",
       "      <td>0</td>\n",
       "      <td>0</td>\n",
       "      <td>0</td>\n",
       "      <td>0</td>\n",
       "      <td>0</td>\n",
       "      <td>0</td>\n",
       "      <td>1</td>\n",
       "      <td>0</td>\n",
       "      <td>0</td>\n",
       "      <td>0</td>\n",
       "      <td>0</td>\n",
       "      <td>0</td>\n",
       "      <td>0</td>\n",
       "      <td>0</td>\n",
       "      <td>0</td>\n",
       "      <td>0</td>\n",
       "      <td>0</td>\n",
       "      <td>0</td>\n",
       "      <td>0</td>\n",
       "      <td>0</td>\n",
       "      <td>0</td>\n",
       "      <td>0</td>\n",
       "      <td>0</td>\n",
       "      <td>0</td>\n",
       "      <td>0</td>\n",
       "      <td>0</td>\n",
       "      <td>0</td>\n",
       "      <td>0</td>\n",
       "      <td>0</td>\n",
       "      <td>0</td>\n",
       "      <td>0</td>\n",
       "      <td>0</td>\n",
       "      <td>0</td>\n",
       "      <td>0</td>\n",
       "      <td>0</td>\n",
       "      <td>0</td>\n",
       "      <td>0</td>\n",
       "      <td>0</td>\n",
       "      <td>0</td>\n",
       "      <td>0</td>\n",
       "      <td>0</td>\n",
       "      <td>0</td>\n",
       "      <td>0</td>\n",
       "      <td>0</td>\n",
       "      <td>1</td>\n",
       "      <td>0</td>\n",
       "      <td>0</td>\n",
       "      <td>0</td>\n",
       "      <td>1</td>\n",
       "      <td>0</td>\n",
       "      <td>0</td>\n",
       "    </tr>\n",
       "    <tr>\n",
       "      <td>6</td>\n",
       "      <td>-1.602191</td>\n",
       "      <td>-0.572261</td>\n",
       "      <td>3.470763</td>\n",
       "      <td>-0.218253</td>\n",
       "      <td>3.525714</td>\n",
       "      <td>0.082974</td>\n",
       "      <td>0.600170</td>\n",
       "      <td>0.880847</td>\n",
       "      <td>0</td>\n",
       "      <td>0</td>\n",
       "      <td>0</td>\n",
       "      <td>0</td>\n",
       "      <td>0</td>\n",
       "      <td>0</td>\n",
       "      <td>0</td>\n",
       "      <td>0</td>\n",
       "      <td>0</td>\n",
       "      <td>1</td>\n",
       "      <td>0</td>\n",
       "      <td>0</td>\n",
       "      <td>0</td>\n",
       "      <td>0</td>\n",
       "      <td>0</td>\n",
       "      <td>0</td>\n",
       "      <td>0</td>\n",
       "      <td>0</td>\n",
       "      <td>0</td>\n",
       "      <td>0</td>\n",
       "      <td>0</td>\n",
       "      <td>0</td>\n",
       "      <td>0</td>\n",
       "      <td>0</td>\n",
       "      <td>0</td>\n",
       "      <td>0</td>\n",
       "      <td>0</td>\n",
       "      <td>0</td>\n",
       "      <td>0</td>\n",
       "      <td>0</td>\n",
       "      <td>0</td>\n",
       "      <td>0</td>\n",
       "      <td>0</td>\n",
       "      <td>0</td>\n",
       "      <td>0</td>\n",
       "      <td>0</td>\n",
       "      <td>0</td>\n",
       "      <td>0</td>\n",
       "      <td>0</td>\n",
       "      <td>0</td>\n",
       "      <td>0</td>\n",
       "      <td>0</td>\n",
       "      <td>0</td>\n",
       "      <td>0</td>\n",
       "      <td>0</td>\n",
       "      <td>0</td>\n",
       "      <td>0</td>\n",
       "      <td>1</td>\n",
       "      <td>0</td>\n",
       "      <td>0</td>\n",
       "      <td>0</td>\n",
       "      <td>1</td>\n",
       "      <td>0</td>\n",
       "      <td>0</td>\n",
       "    </tr>\n",
       "    <tr>\n",
       "      <td>79</td>\n",
       "      <td>-1.670001</td>\n",
       "      <td>1.318137</td>\n",
       "      <td>-0.494868</td>\n",
       "      <td>-0.218253</td>\n",
       "      <td>-0.613816</td>\n",
       "      <td>0.394309</td>\n",
       "      <td>0.518323</td>\n",
       "      <td>0.880847</td>\n",
       "      <td>0</td>\n",
       "      <td>0</td>\n",
       "      <td>0</td>\n",
       "      <td>0</td>\n",
       "      <td>0</td>\n",
       "      <td>0</td>\n",
       "      <td>0</td>\n",
       "      <td>0</td>\n",
       "      <td>0</td>\n",
       "      <td>0</td>\n",
       "      <td>0</td>\n",
       "      <td>0</td>\n",
       "      <td>0</td>\n",
       "      <td>0</td>\n",
       "      <td>0</td>\n",
       "      <td>1</td>\n",
       "      <td>0</td>\n",
       "      <td>0</td>\n",
       "      <td>0</td>\n",
       "      <td>0</td>\n",
       "      <td>0</td>\n",
       "      <td>0</td>\n",
       "      <td>0</td>\n",
       "      <td>0</td>\n",
       "      <td>0</td>\n",
       "      <td>0</td>\n",
       "      <td>0</td>\n",
       "      <td>0</td>\n",
       "      <td>0</td>\n",
       "      <td>0</td>\n",
       "      <td>0</td>\n",
       "      <td>0</td>\n",
       "      <td>0</td>\n",
       "      <td>0</td>\n",
       "      <td>0</td>\n",
       "      <td>0</td>\n",
       "      <td>0</td>\n",
       "      <td>0</td>\n",
       "      <td>0</td>\n",
       "      <td>0</td>\n",
       "      <td>0</td>\n",
       "      <td>0</td>\n",
       "      <td>0</td>\n",
       "      <td>0</td>\n",
       "      <td>0</td>\n",
       "      <td>1</td>\n",
       "      <td>0</td>\n",
       "      <td>0</td>\n",
       "      <td>0</td>\n",
       "      <td>0</td>\n",
       "      <td>0</td>\n",
       "      <td>1</td>\n",
       "      <td>0</td>\n",
       "      <td>0</td>\n",
       "    </tr>\n",
       "    <tr>\n",
       "      <td>80</td>\n",
       "      <td>-1.670001</td>\n",
       "      <td>1.318688</td>\n",
       "      <td>-0.494868</td>\n",
       "      <td>-0.218253</td>\n",
       "      <td>-0.613816</td>\n",
       "      <td>0.394309</td>\n",
       "      <td>0.518323</td>\n",
       "      <td>0.880847</td>\n",
       "      <td>0</td>\n",
       "      <td>0</td>\n",
       "      <td>0</td>\n",
       "      <td>0</td>\n",
       "      <td>0</td>\n",
       "      <td>0</td>\n",
       "      <td>0</td>\n",
       "      <td>0</td>\n",
       "      <td>0</td>\n",
       "      <td>0</td>\n",
       "      <td>0</td>\n",
       "      <td>0</td>\n",
       "      <td>0</td>\n",
       "      <td>0</td>\n",
       "      <td>0</td>\n",
       "      <td>1</td>\n",
       "      <td>0</td>\n",
       "      <td>0</td>\n",
       "      <td>0</td>\n",
       "      <td>0</td>\n",
       "      <td>0</td>\n",
       "      <td>0</td>\n",
       "      <td>0</td>\n",
       "      <td>0</td>\n",
       "      <td>0</td>\n",
       "      <td>0</td>\n",
       "      <td>0</td>\n",
       "      <td>0</td>\n",
       "      <td>0</td>\n",
       "      <td>0</td>\n",
       "      <td>0</td>\n",
       "      <td>0</td>\n",
       "      <td>0</td>\n",
       "      <td>0</td>\n",
       "      <td>0</td>\n",
       "      <td>0</td>\n",
       "      <td>0</td>\n",
       "      <td>0</td>\n",
       "      <td>0</td>\n",
       "      <td>0</td>\n",
       "      <td>0</td>\n",
       "      <td>0</td>\n",
       "      <td>0</td>\n",
       "      <td>0</td>\n",
       "      <td>0</td>\n",
       "      <td>1</td>\n",
       "      <td>0</td>\n",
       "      <td>0</td>\n",
       "      <td>0</td>\n",
       "      <td>0</td>\n",
       "      <td>0</td>\n",
       "      <td>1</td>\n",
       "      <td>0</td>\n",
       "      <td>0</td>\n",
       "    </tr>\n",
       "    <tr>\n",
       "      <td>81</td>\n",
       "      <td>-1.670001</td>\n",
       "      <td>1.319239</td>\n",
       "      <td>-0.494868</td>\n",
       "      <td>-0.218253</td>\n",
       "      <td>-0.613816</td>\n",
       "      <td>0.394309</td>\n",
       "      <td>0.518323</td>\n",
       "      <td>0.880847</td>\n",
       "      <td>0</td>\n",
       "      <td>0</td>\n",
       "      <td>0</td>\n",
       "      <td>0</td>\n",
       "      <td>0</td>\n",
       "      <td>0</td>\n",
       "      <td>0</td>\n",
       "      <td>0</td>\n",
       "      <td>0</td>\n",
       "      <td>0</td>\n",
       "      <td>0</td>\n",
       "      <td>0</td>\n",
       "      <td>0</td>\n",
       "      <td>0</td>\n",
       "      <td>0</td>\n",
       "      <td>1</td>\n",
       "      <td>0</td>\n",
       "      <td>0</td>\n",
       "      <td>0</td>\n",
       "      <td>0</td>\n",
       "      <td>0</td>\n",
       "      <td>0</td>\n",
       "      <td>0</td>\n",
       "      <td>0</td>\n",
       "      <td>0</td>\n",
       "      <td>0</td>\n",
       "      <td>0</td>\n",
       "      <td>0</td>\n",
       "      <td>0</td>\n",
       "      <td>0</td>\n",
       "      <td>0</td>\n",
       "      <td>0</td>\n",
       "      <td>0</td>\n",
       "      <td>0</td>\n",
       "      <td>0</td>\n",
       "      <td>0</td>\n",
       "      <td>0</td>\n",
       "      <td>0</td>\n",
       "      <td>0</td>\n",
       "      <td>0</td>\n",
       "      <td>0</td>\n",
       "      <td>0</td>\n",
       "      <td>0</td>\n",
       "      <td>0</td>\n",
       "      <td>0</td>\n",
       "      <td>1</td>\n",
       "      <td>0</td>\n",
       "      <td>0</td>\n",
       "      <td>0</td>\n",
       "      <td>0</td>\n",
       "      <td>0</td>\n",
       "      <td>1</td>\n",
       "      <td>0</td>\n",
       "      <td>0</td>\n",
       "    </tr>\n",
       "    <tr>\n",
       "      <td>...</td>\n",
       "      <td>...</td>\n",
       "      <td>...</td>\n",
       "      <td>...</td>\n",
       "      <td>...</td>\n",
       "      <td>...</td>\n",
       "      <td>...</td>\n",
       "      <td>...</td>\n",
       "      <td>...</td>\n",
       "      <td>...</td>\n",
       "      <td>...</td>\n",
       "      <td>...</td>\n",
       "      <td>...</td>\n",
       "      <td>...</td>\n",
       "      <td>...</td>\n",
       "      <td>...</td>\n",
       "      <td>...</td>\n",
       "      <td>...</td>\n",
       "      <td>...</td>\n",
       "      <td>...</td>\n",
       "      <td>...</td>\n",
       "      <td>...</td>\n",
       "      <td>...</td>\n",
       "      <td>...</td>\n",
       "      <td>...</td>\n",
       "      <td>...</td>\n",
       "      <td>...</td>\n",
       "      <td>...</td>\n",
       "      <td>...</td>\n",
       "      <td>...</td>\n",
       "      <td>...</td>\n",
       "      <td>...</td>\n",
       "      <td>...</td>\n",
       "      <td>...</td>\n",
       "      <td>...</td>\n",
       "      <td>...</td>\n",
       "      <td>...</td>\n",
       "      <td>...</td>\n",
       "      <td>...</td>\n",
       "      <td>...</td>\n",
       "      <td>...</td>\n",
       "      <td>...</td>\n",
       "      <td>...</td>\n",
       "      <td>...</td>\n",
       "      <td>...</td>\n",
       "      <td>...</td>\n",
       "      <td>...</td>\n",
       "      <td>...</td>\n",
       "      <td>...</td>\n",
       "      <td>...</td>\n",
       "      <td>...</td>\n",
       "      <td>...</td>\n",
       "      <td>...</td>\n",
       "      <td>...</td>\n",
       "      <td>...</td>\n",
       "      <td>...</td>\n",
       "      <td>...</td>\n",
       "      <td>...</td>\n",
       "      <td>...</td>\n",
       "      <td>...</td>\n",
       "      <td>...</td>\n",
       "      <td>...</td>\n",
       "      <td>...</td>\n",
       "    </tr>\n",
       "    <tr>\n",
       "      <td>84540</td>\n",
       "      <td>0.714726</td>\n",
       "      <td>0.007155</td>\n",
       "      <td>0.574176</td>\n",
       "      <td>-0.218253</td>\n",
       "      <td>0.502107</td>\n",
       "      <td>0.364315</td>\n",
       "      <td>0.072024</td>\n",
       "      <td>-1.118908</td>\n",
       "      <td>0</td>\n",
       "      <td>0</td>\n",
       "      <td>0</td>\n",
       "      <td>1</td>\n",
       "      <td>1</td>\n",
       "      <td>0</td>\n",
       "      <td>0</td>\n",
       "      <td>0</td>\n",
       "      <td>0</td>\n",
       "      <td>0</td>\n",
       "      <td>0</td>\n",
       "      <td>0</td>\n",
       "      <td>0</td>\n",
       "      <td>0</td>\n",
       "      <td>0</td>\n",
       "      <td>0</td>\n",
       "      <td>0</td>\n",
       "      <td>0</td>\n",
       "      <td>0</td>\n",
       "      <td>0</td>\n",
       "      <td>0</td>\n",
       "      <td>0</td>\n",
       "      <td>0</td>\n",
       "      <td>0</td>\n",
       "      <td>0</td>\n",
       "      <td>0</td>\n",
       "      <td>0</td>\n",
       "      <td>0</td>\n",
       "      <td>0</td>\n",
       "      <td>0</td>\n",
       "      <td>0</td>\n",
       "      <td>0</td>\n",
       "      <td>0</td>\n",
       "      <td>0</td>\n",
       "      <td>0</td>\n",
       "      <td>0</td>\n",
       "      <td>0</td>\n",
       "      <td>0</td>\n",
       "      <td>0</td>\n",
       "      <td>0</td>\n",
       "      <td>0</td>\n",
       "      <td>1</td>\n",
       "      <td>0</td>\n",
       "      <td>0</td>\n",
       "      <td>0</td>\n",
       "      <td>0</td>\n",
       "      <td>0</td>\n",
       "      <td>0</td>\n",
       "      <td>0</td>\n",
       "      <td>0</td>\n",
       "      <td>0</td>\n",
       "      <td>0</td>\n",
       "      <td>0</td>\n",
       "      <td>0</td>\n",
       "    </tr>\n",
       "    <tr>\n",
       "      <td>84541</td>\n",
       "      <td>0.714836</td>\n",
       "      <td>0.173704</td>\n",
       "      <td>0.574176</td>\n",
       "      <td>-0.218253</td>\n",
       "      <td>0.502107</td>\n",
       "      <td>0.892361</td>\n",
       "      <td>0.299460</td>\n",
       "      <td>-1.092244</td>\n",
       "      <td>0</td>\n",
       "      <td>0</td>\n",
       "      <td>0</td>\n",
       "      <td>1</td>\n",
       "      <td>1</td>\n",
       "      <td>0</td>\n",
       "      <td>0</td>\n",
       "      <td>0</td>\n",
       "      <td>0</td>\n",
       "      <td>0</td>\n",
       "      <td>0</td>\n",
       "      <td>0</td>\n",
       "      <td>0</td>\n",
       "      <td>0</td>\n",
       "      <td>0</td>\n",
       "      <td>0</td>\n",
       "      <td>0</td>\n",
       "      <td>0</td>\n",
       "      <td>0</td>\n",
       "      <td>0</td>\n",
       "      <td>0</td>\n",
       "      <td>0</td>\n",
       "      <td>0</td>\n",
       "      <td>0</td>\n",
       "      <td>0</td>\n",
       "      <td>0</td>\n",
       "      <td>0</td>\n",
       "      <td>0</td>\n",
       "      <td>0</td>\n",
       "      <td>0</td>\n",
       "      <td>0</td>\n",
       "      <td>0</td>\n",
       "      <td>0</td>\n",
       "      <td>0</td>\n",
       "      <td>0</td>\n",
       "      <td>0</td>\n",
       "      <td>0</td>\n",
       "      <td>0</td>\n",
       "      <td>0</td>\n",
       "      <td>0</td>\n",
       "      <td>0</td>\n",
       "      <td>1</td>\n",
       "      <td>0</td>\n",
       "      <td>0</td>\n",
       "      <td>0</td>\n",
       "      <td>0</td>\n",
       "      <td>0</td>\n",
       "      <td>0</td>\n",
       "      <td>0</td>\n",
       "      <td>0</td>\n",
       "      <td>0</td>\n",
       "      <td>0</td>\n",
       "      <td>0</td>\n",
       "      <td>0</td>\n",
       "    </tr>\n",
       "    <tr>\n",
       "      <td>84543</td>\n",
       "      <td>0.718335</td>\n",
       "      <td>-0.539692</td>\n",
       "      <td>0.574176</td>\n",
       "      <td>-0.218253</td>\n",
       "      <td>0.502107</td>\n",
       "      <td>0.221411</td>\n",
       "      <td>0.378195</td>\n",
       "      <td>-1.198898</td>\n",
       "      <td>0</td>\n",
       "      <td>0</td>\n",
       "      <td>0</td>\n",
       "      <td>1</td>\n",
       "      <td>1</td>\n",
       "      <td>0</td>\n",
       "      <td>0</td>\n",
       "      <td>0</td>\n",
       "      <td>0</td>\n",
       "      <td>0</td>\n",
       "      <td>0</td>\n",
       "      <td>0</td>\n",
       "      <td>0</td>\n",
       "      <td>0</td>\n",
       "      <td>0</td>\n",
       "      <td>0</td>\n",
       "      <td>0</td>\n",
       "      <td>0</td>\n",
       "      <td>0</td>\n",
       "      <td>0</td>\n",
       "      <td>0</td>\n",
       "      <td>0</td>\n",
       "      <td>0</td>\n",
       "      <td>0</td>\n",
       "      <td>0</td>\n",
       "      <td>0</td>\n",
       "      <td>0</td>\n",
       "      <td>0</td>\n",
       "      <td>0</td>\n",
       "      <td>0</td>\n",
       "      <td>0</td>\n",
       "      <td>0</td>\n",
       "      <td>0</td>\n",
       "      <td>0</td>\n",
       "      <td>0</td>\n",
       "      <td>0</td>\n",
       "      <td>0</td>\n",
       "      <td>0</td>\n",
       "      <td>0</td>\n",
       "      <td>0</td>\n",
       "      <td>0</td>\n",
       "      <td>1</td>\n",
       "      <td>0</td>\n",
       "      <td>0</td>\n",
       "      <td>0</td>\n",
       "      <td>0</td>\n",
       "      <td>0</td>\n",
       "      <td>0</td>\n",
       "      <td>0</td>\n",
       "      <td>0</td>\n",
       "      <td>0</td>\n",
       "      <td>0</td>\n",
       "      <td>0</td>\n",
       "      <td>0</td>\n",
       "    </tr>\n",
       "    <tr>\n",
       "      <td>84544</td>\n",
       "      <td>0.718335</td>\n",
       "      <td>-0.089073</td>\n",
       "      <td>0.574176</td>\n",
       "      <td>-0.218253</td>\n",
       "      <td>0.502107</td>\n",
       "      <td>0.238954</td>\n",
       "      <td>0.342348</td>\n",
       "      <td>-1.198898</td>\n",
       "      <td>0</td>\n",
       "      <td>0</td>\n",
       "      <td>0</td>\n",
       "      <td>1</td>\n",
       "      <td>1</td>\n",
       "      <td>0</td>\n",
       "      <td>0</td>\n",
       "      <td>0</td>\n",
       "      <td>0</td>\n",
       "      <td>0</td>\n",
       "      <td>0</td>\n",
       "      <td>0</td>\n",
       "      <td>0</td>\n",
       "      <td>0</td>\n",
       "      <td>0</td>\n",
       "      <td>0</td>\n",
       "      <td>0</td>\n",
       "      <td>0</td>\n",
       "      <td>0</td>\n",
       "      <td>0</td>\n",
       "      <td>0</td>\n",
       "      <td>0</td>\n",
       "      <td>0</td>\n",
       "      <td>0</td>\n",
       "      <td>0</td>\n",
       "      <td>0</td>\n",
       "      <td>0</td>\n",
       "      <td>0</td>\n",
       "      <td>0</td>\n",
       "      <td>0</td>\n",
       "      <td>0</td>\n",
       "      <td>0</td>\n",
       "      <td>0</td>\n",
       "      <td>0</td>\n",
       "      <td>0</td>\n",
       "      <td>0</td>\n",
       "      <td>0</td>\n",
       "      <td>0</td>\n",
       "      <td>0</td>\n",
       "      <td>0</td>\n",
       "      <td>0</td>\n",
       "      <td>1</td>\n",
       "      <td>0</td>\n",
       "      <td>0</td>\n",
       "      <td>0</td>\n",
       "      <td>0</td>\n",
       "      <td>0</td>\n",
       "      <td>0</td>\n",
       "      <td>0</td>\n",
       "      <td>0</td>\n",
       "      <td>0</td>\n",
       "      <td>0</td>\n",
       "      <td>0</td>\n",
       "      <td>0</td>\n",
       "    </tr>\n",
       "    <tr>\n",
       "      <td>84545</td>\n",
       "      <td>0.718553</td>\n",
       "      <td>-0.232198</td>\n",
       "      <td>0.574176</td>\n",
       "      <td>-0.218253</td>\n",
       "      <td>0.502107</td>\n",
       "      <td>0.445340</td>\n",
       "      <td>0.134921</td>\n",
       "      <td>0.747530</td>\n",
       "      <td>0</td>\n",
       "      <td>0</td>\n",
       "      <td>0</td>\n",
       "      <td>1</td>\n",
       "      <td>1</td>\n",
       "      <td>0</td>\n",
       "      <td>0</td>\n",
       "      <td>0</td>\n",
       "      <td>0</td>\n",
       "      <td>0</td>\n",
       "      <td>0</td>\n",
       "      <td>0</td>\n",
       "      <td>0</td>\n",
       "      <td>0</td>\n",
       "      <td>0</td>\n",
       "      <td>0</td>\n",
       "      <td>0</td>\n",
       "      <td>0</td>\n",
       "      <td>0</td>\n",
       "      <td>0</td>\n",
       "      <td>0</td>\n",
       "      <td>0</td>\n",
       "      <td>0</td>\n",
       "      <td>0</td>\n",
       "      <td>0</td>\n",
       "      <td>0</td>\n",
       "      <td>0</td>\n",
       "      <td>0</td>\n",
       "      <td>0</td>\n",
       "      <td>0</td>\n",
       "      <td>0</td>\n",
       "      <td>0</td>\n",
       "      <td>0</td>\n",
       "      <td>0</td>\n",
       "      <td>0</td>\n",
       "      <td>0</td>\n",
       "      <td>0</td>\n",
       "      <td>0</td>\n",
       "      <td>0</td>\n",
       "      <td>0</td>\n",
       "      <td>0</td>\n",
       "      <td>1</td>\n",
       "      <td>0</td>\n",
       "      <td>0</td>\n",
       "      <td>0</td>\n",
       "      <td>0</td>\n",
       "      <td>0</td>\n",
       "      <td>0</td>\n",
       "      <td>0</td>\n",
       "      <td>0</td>\n",
       "      <td>0</td>\n",
       "      <td>0</td>\n",
       "      <td>0</td>\n",
       "      <td>0</td>\n",
       "    </tr>\n",
       "  </tbody>\n",
       "</table>\n",
       "<p>36544 rows × 62 columns</p>\n",
       "</div>"
      ],
      "text/plain": [
       "          BLOCK       LOT  RESIDENTIAL UNITS  COMMERCIAL UNITS  TOTAL UNITS  \\\n",
       "3     -1.610112 -0.796694           3.999849         -0.218253     4.078001   \n",
       "6     -1.602191 -0.572261           3.470763         -0.218253     3.525714   \n",
       "79    -1.670001  1.318137          -0.494868         -0.218253    -0.613816   \n",
       "80    -1.670001  1.318688          -0.494868         -0.218253    -0.613816   \n",
       "81    -1.670001  1.319239          -0.494868         -0.218253    -0.613816   \n",
       "...         ...       ...                ...               ...          ...   \n",
       "84540  0.714726  0.007155           0.574176         -0.218253     0.502107   \n",
       "84541  0.714836  0.173704           0.574176         -0.218253     0.502107   \n",
       "84543  0.718335 -0.539692           0.574176         -0.218253     0.502107   \n",
       "84544  0.718335 -0.089073           0.574176         -0.218253     0.502107   \n",
       "84545  0.718553 -0.232198           0.574176         -0.218253     0.502107   \n",
       "\n",
       "       LAND SQUARE FEET  GROSS SQUARE FEET  BUILDING AGE  BOROUGH_2  \\\n",
       "3              0.197387           0.812930      1.067491          0   \n",
       "6              0.082974           0.600170      0.880847          0   \n",
       "79             0.394309           0.518323      0.880847          0   \n",
       "80             0.394309           0.518323      0.880847          0   \n",
       "81             0.394309           0.518323      0.880847          0   \n",
       "...                 ...                ...           ...        ...   \n",
       "84540          0.364315           0.072024     -1.118908          0   \n",
       "84541          0.892361           0.299460     -1.092244          0   \n",
       "84543          0.221411           0.378195     -1.198898          0   \n",
       "84544          0.238954           0.342348     -1.198898          0   \n",
       "84545          0.445340           0.134921      0.747530          0   \n",
       "\n",
       "       BOROUGH_3  BOROUGH_4  BOROUGH_5  \\\n",
       "3              0          0          0   \n",
       "6              0          0          0   \n",
       "79             0          0          0   \n",
       "80             0          0          0   \n",
       "81             0          0          0   \n",
       "...          ...        ...        ...   \n",
       "84540          0          0          1   \n",
       "84541          0          0          1   \n",
       "84543          0          0          1   \n",
       "84544          0          0          1   \n",
       "84545          0          0          1   \n",
       "\n",
       "       BUILDING CLASS CATEGORY_02 TWO FAMILY DWELLINGS                      \\\n",
       "3                                                      0                     \n",
       "6                                                      0                     \n",
       "79                                                     0                     \n",
       "80                                                     0                     \n",
       "81                                                     0                     \n",
       "...                                                  ...                     \n",
       "84540                                                  1                     \n",
       "84541                                                  1                     \n",
       "84543                                                  1                     \n",
       "84544                                                  1                     \n",
       "84545                                                  1                     \n",
       "\n",
       "       BUILDING CLASS CATEGORY_03 THREE FAMILY DWELLINGS                    \\\n",
       "3                                                      0                     \n",
       "6                                                      0                     \n",
       "79                                                     0                     \n",
       "80                                                     0                     \n",
       "81                                                     0                     \n",
       "...                                                  ...                     \n",
       "84540                                                  0                     \n",
       "84541                                                  0                     \n",
       "84543                                                  0                     \n",
       "84544                                                  0                     \n",
       "84545                                                  0                     \n",
       "\n",
       "       BUILDING CLASS CATEGORY_04 TAX CLASS 1 CONDOS                        \\\n",
       "3                                                      0                     \n",
       "6                                                      0                     \n",
       "79                                                     0                     \n",
       "80                                                     0                     \n",
       "81                                                     0                     \n",
       "...                                                  ...                     \n",
       "84540                                                  0                     \n",
       "84541                                                  0                     \n",
       "84543                                                  0                     \n",
       "84544                                                  0                     \n",
       "84545                                                  0                     \n",
       "\n",
       "       BUILDING CLASS CATEGORY_05 TAX CLASS 1 VACANT LAND                   \\\n",
       "3                                                      0                     \n",
       "6                                                      0                     \n",
       "79                                                     0                     \n",
       "80                                                     0                     \n",
       "81                                                     0                     \n",
       "...                                                  ...                     \n",
       "84540                                                  0                     \n",
       "84541                                                  0                     \n",
       "84543                                                  0                     \n",
       "84544                                                  0                     \n",
       "84545                                                  0                     \n",
       "\n",
       "       BUILDING CLASS CATEGORY_06 TAX CLASS 1 - OTHER                       \\\n",
       "3                                                      0                     \n",
       "6                                                      0                     \n",
       "79                                                     0                     \n",
       "80                                                     0                     \n",
       "81                                                     0                     \n",
       "...                                                  ...                     \n",
       "84540                                                  0                     \n",
       "84541                                                  0                     \n",
       "84543                                                  0                     \n",
       "84544                                                  0                     \n",
       "84545                                                  0                     \n",
       "\n",
       "       BUILDING CLASS CATEGORY_07 RENTALS - WALKUP APARTMENTS               \\\n",
       "3                                                      1                     \n",
       "6                                                      1                     \n",
       "79                                                     0                     \n",
       "80                                                     0                     \n",
       "81                                                     0                     \n",
       "...                                                  ...                     \n",
       "84540                                                  0                     \n",
       "84541                                                  0                     \n",
       "84543                                                  0                     \n",
       "84544                                                  0                     \n",
       "84545                                                  0                     \n",
       "\n",
       "       BUILDING CLASS CATEGORY_08 RENTALS - ELEVATOR APARTMENTS             \\\n",
       "3                                                      0                     \n",
       "6                                                      0                     \n",
       "79                                                     0                     \n",
       "80                                                     0                     \n",
       "81                                                     0                     \n",
       "...                                                  ...                     \n",
       "84540                                                  0                     \n",
       "84541                                                  0                     \n",
       "84543                                                  0                     \n",
       "84544                                                  0                     \n",
       "84545                                                  0                     \n",
       "\n",
       "       BUILDING CLASS CATEGORY_09 COOPS - WALKUP APARTMENTS                 \\\n",
       "3                                                      0                     \n",
       "6                                                      0                     \n",
       "79                                                     0                     \n",
       "80                                                     0                     \n",
       "81                                                     0                     \n",
       "...                                                  ...                     \n",
       "84540                                                  0                     \n",
       "84541                                                  0                     \n",
       "84543                                                  0                     \n",
       "84544                                                  0                     \n",
       "84545                                                  0                     \n",
       "\n",
       "       BUILDING CLASS CATEGORY_10 COOPS - ELEVATOR APARTMENTS               \\\n",
       "3                                                      0                     \n",
       "6                                                      0                     \n",
       "79                                                     0                     \n",
       "80                                                     0                     \n",
       "81                                                     0                     \n",
       "...                                                  ...                     \n",
       "84540                                                  0                     \n",
       "84541                                                  0                     \n",
       "84543                                                  0                     \n",
       "84544                                                  0                     \n",
       "84545                                                  0                     \n",
       "\n",
       "       BUILDING CLASS CATEGORY_11A CONDO-RENTALS                             \\\n",
       "3                                                      0                      \n",
       "6                                                      0                      \n",
       "79                                                     0                      \n",
       "80                                                     0                      \n",
       "81                                                     0                      \n",
       "...                                                  ...                      \n",
       "84540                                                  0                      \n",
       "84541                                                  0                      \n",
       "84543                                                  0                      \n",
       "84544                                                  0                      \n",
       "84545                                                  0                      \n",
       "\n",
       "       BUILDING CLASS CATEGORY_12 CONDOS - WALKUP APARTMENTS                \\\n",
       "3                                                      0                     \n",
       "6                                                      0                     \n",
       "79                                                     0                     \n",
       "80                                                     0                     \n",
       "81                                                     0                     \n",
       "...                                                  ...                     \n",
       "84540                                                  0                     \n",
       "84541                                                  0                     \n",
       "84543                                                  0                     \n",
       "84544                                                  0                     \n",
       "84545                                                  0                     \n",
       "\n",
       "       BUILDING CLASS CATEGORY_13 CONDOS - ELEVATOR APARTMENTS              \\\n",
       "3                                                      0                     \n",
       "6                                                      0                     \n",
       "79                                                     1                     \n",
       "80                                                     1                     \n",
       "81                                                     1                     \n",
       "...                                                  ...                     \n",
       "84540                                                  0                     \n",
       "84541                                                  0                     \n",
       "84543                                                  0                     \n",
       "84544                                                  0                     \n",
       "84545                                                  0                     \n",
       "\n",
       "       BUILDING CLASS CATEGORY_14 RENTALS - 4-10 UNIT                       \\\n",
       "3                                                      0                     \n",
       "6                                                      0                     \n",
       "79                                                     0                     \n",
       "80                                                     0                     \n",
       "81                                                     0                     \n",
       "...                                                  ...                     \n",
       "84540                                                  0                     \n",
       "84541                                                  0                     \n",
       "84543                                                  0                     \n",
       "84544                                                  0                     \n",
       "84545                                                  0                     \n",
       "\n",
       "       BUILDING CLASS CATEGORY_15 CONDOS - 2-10 UNIT RESIDENTIAL            \\\n",
       "3                                                      0                     \n",
       "6                                                      0                     \n",
       "79                                                     0                     \n",
       "80                                                     0                     \n",
       "81                                                     0                     \n",
       "...                                                  ...                     \n",
       "84540                                                  0                     \n",
       "84541                                                  0                     \n",
       "84543                                                  0                     \n",
       "84544                                                  0                     \n",
       "84545                                                  0                     \n",
       "\n",
       "       BUILDING CLASS CATEGORY_16 CONDOS - 2-10 UNIT WITH COMMERCIAL UNIT   \\\n",
       "3                                                      0                     \n",
       "6                                                      0                     \n",
       "79                                                     0                     \n",
       "80                                                     0                     \n",
       "81                                                     0                     \n",
       "...                                                  ...                     \n",
       "84540                                                  0                     \n",
       "84541                                                  0                     \n",
       "84543                                                  0                     \n",
       "84544                                                  0                     \n",
       "84545                                                  0                     \n",
       "\n",
       "       BUILDING CLASS CATEGORY_21 OFFICE BUILDINGS                          \\\n",
       "3                                                      0                     \n",
       "6                                                      0                     \n",
       "79                                                     0                     \n",
       "80                                                     0                     \n",
       "81                                                     0                     \n",
       "...                                                  ...                     \n",
       "84540                                                  0                     \n",
       "84541                                                  0                     \n",
       "84543                                                  0                     \n",
       "84544                                                  0                     \n",
       "84545                                                  0                     \n",
       "\n",
       "       BUILDING CLASS CATEGORY_22 STORE BUILDINGS                           \\\n",
       "3                                                      0                     \n",
       "6                                                      0                     \n",
       "79                                                     0                     \n",
       "80                                                     0                     \n",
       "81                                                     0                     \n",
       "...                                                  ...                     \n",
       "84540                                                  0                     \n",
       "84541                                                  0                     \n",
       "84543                                                  0                     \n",
       "84544                                                  0                     \n",
       "84545                                                  0                     \n",
       "\n",
       "       BUILDING CLASS CATEGORY_23 LOFT BUILDINGS                            \\\n",
       "3                                                      0                     \n",
       "6                                                      0                     \n",
       "79                                                     0                     \n",
       "80                                                     0                     \n",
       "81                                                     0                     \n",
       "...                                                  ...                     \n",
       "84540                                                  0                     \n",
       "84541                                                  0                     \n",
       "84543                                                  0                     \n",
       "84544                                                  0                     \n",
       "84545                                                  0                     \n",
       "\n",
       "       BUILDING CLASS CATEGORY_26 OTHER HOTELS                              \\\n",
       "3                                                      0                     \n",
       "6                                                      0                     \n",
       "79                                                     0                     \n",
       "80                                                     0                     \n",
       "81                                                     0                     \n",
       "...                                                  ...                     \n",
       "84540                                                  0                     \n",
       "84541                                                  0                     \n",
       "84543                                                  0                     \n",
       "84544                                                  0                     \n",
       "84545                                                  0                     \n",
       "\n",
       "       BUILDING CLASS CATEGORY_27 FACTORIES                                 \\\n",
       "3                                                      0                     \n",
       "6                                                      0                     \n",
       "79                                                     0                     \n",
       "80                                                     0                     \n",
       "81                                                     0                     \n",
       "...                                                  ...                     \n",
       "84540                                                  0                     \n",
       "84541                                                  0                     \n",
       "84543                                                  0                     \n",
       "84544                                                  0                     \n",
       "84545                                                  0                     \n",
       "\n",
       "       BUILDING CLASS CATEGORY_28 COMMERCIAL CONDOS                         \\\n",
       "3                                                      0                     \n",
       "6                                                      0                     \n",
       "79                                                     0                     \n",
       "80                                                     0                     \n",
       "81                                                     0                     \n",
       "...                                                  ...                     \n",
       "84540                                                  0                     \n",
       "84541                                                  0                     \n",
       "84543                                                  0                     \n",
       "84544                                                  0                     \n",
       "84545                                                  0                     \n",
       "\n",
       "       BUILDING CLASS CATEGORY_29 COMMERCIAL GARAGES                        \\\n",
       "3                                                      0                     \n",
       "6                                                      0                     \n",
       "79                                                     0                     \n",
       "80                                                     0                     \n",
       "81                                                     0                     \n",
       "...                                                  ...                     \n",
       "84540                                                  0                     \n",
       "84541                                                  0                     \n",
       "84543                                                  0                     \n",
       "84544                                                  0                     \n",
       "84545                                                  0                     \n",
       "\n",
       "       BUILDING CLASS CATEGORY_30 WAREHOUSES                                \\\n",
       "3                                                      0                     \n",
       "6                                                      0                     \n",
       "79                                                     0                     \n",
       "80                                                     0                     \n",
       "81                                                     0                     \n",
       "...                                                  ...                     \n",
       "84540                                                  0                     \n",
       "84541                                                  0                     \n",
       "84543                                                  0                     \n",
       "84544                                                  0                     \n",
       "84545                                                  0                     \n",
       "\n",
       "       BUILDING CLASS CATEGORY_31 COMMERCIAL VACANT LAND                    \\\n",
       "3                                                      0                     \n",
       "6                                                      0                     \n",
       "79                                                     0                     \n",
       "80                                                     0                     \n",
       "81                                                     0                     \n",
       "...                                                  ...                     \n",
       "84540                                                  0                     \n",
       "84541                                                  0                     \n",
       "84543                                                  0                     \n",
       "84544                                                  0                     \n",
       "84545                                                  0                     \n",
       "\n",
       "       BUILDING CLASS CATEGORY_32 HOSPITAL AND HEALTH FACILITIES            \\\n",
       "3                                                      0                     \n",
       "6                                                      0                     \n",
       "79                                                     0                     \n",
       "80                                                     0                     \n",
       "81                                                     0                     \n",
       "...                                                  ...                     \n",
       "84540                                                  0                     \n",
       "84541                                                  0                     \n",
       "84543                                                  0                     \n",
       "84544                                                  0                     \n",
       "84545                                                  0                     \n",
       "\n",
       "       BUILDING CLASS CATEGORY_33 EDUCATIONAL FACILITIES                    \\\n",
       "3                                                      0                     \n",
       "6                                                      0                     \n",
       "79                                                     0                     \n",
       "80                                                     0                     \n",
       "81                                                     0                     \n",
       "...                                                  ...                     \n",
       "84540                                                  0                     \n",
       "84541                                                  0                     \n",
       "84543                                                  0                     \n",
       "84544                                                  0                     \n",
       "84545                                                  0                     \n",
       "\n",
       "       BUILDING CLASS CATEGORY_35 INDOOR PUBLIC AND CULTURAL FACILITIES     \\\n",
       "3                                                      0                     \n",
       "6                                                      0                     \n",
       "79                                                     0                     \n",
       "80                                                     0                     \n",
       "81                                                     0                     \n",
       "...                                                  ...                     \n",
       "84540                                                  0                     \n",
       "84541                                                  0                     \n",
       "84543                                                  0                     \n",
       "84544                                                  0                     \n",
       "84545                                                  0                     \n",
       "\n",
       "       BUILDING CLASS CATEGORY_37 RELIGIOUS FACILITIES                      \\\n",
       "3                                                      0                     \n",
       "6                                                      0                     \n",
       "79                                                     0                     \n",
       "80                                                     0                     \n",
       "81                                                     0                     \n",
       "...                                                  ...                     \n",
       "84540                                                  0                     \n",
       "84541                                                  0                     \n",
       "84543                                                  0                     \n",
       "84544                                                  0                     \n",
       "84545                                                  0                     \n",
       "\n",
       "       BUILDING CLASS CATEGORY_38 ASYLUMS AND HOMES                         \\\n",
       "3                                                      0                     \n",
       "6                                                      0                     \n",
       "79                                                     0                     \n",
       "80                                                     0                     \n",
       "81                                                     0                     \n",
       "...                                                  ...                     \n",
       "84540                                                  0                     \n",
       "84541                                                  0                     \n",
       "84543                                                  0                     \n",
       "84544                                                  0                     \n",
       "84545                                                  0                     \n",
       "\n",
       "       BUILDING CLASS CATEGORY_41 TAX CLASS 4 - OTHER                       \\\n",
       "3                                                      0                     \n",
       "6                                                      0                     \n",
       "79                                                     0                     \n",
       "80                                                     0                     \n",
       "81                                                     0                     \n",
       "...                                                  ...                     \n",
       "84540                                                  0                     \n",
       "84541                                                  0                     \n",
       "84543                                                  0                     \n",
       "84544                                                  0                     \n",
       "84545                                                  0                     \n",
       "\n",
       "       BUILDING CLASS CATEGORY_42 CONDO CULTURAL/MEDICAL/EDUCATIONAL/ETC    \\\n",
       "3                                                      0                     \n",
       "6                                                      0                     \n",
       "79                                                     0                     \n",
       "80                                                     0                     \n",
       "81                                                     0                     \n",
       "...                                                  ...                     \n",
       "84540                                                  0                     \n",
       "84541                                                  0                     \n",
       "84543                                                  0                     \n",
       "84544                                                  0                     \n",
       "84545                                                  0                     \n",
       "\n",
       "       BUILDING CLASS CATEGORY_43 CONDO OFFICE BUILDINGS                    \\\n",
       "3                                                      0                     \n",
       "6                                                      0                     \n",
       "79                                                     0                     \n",
       "80                                                     0                     \n",
       "81                                                     0                     \n",
       "...                                                  ...                     \n",
       "84540                                                  0                     \n",
       "84541                                                  0                     \n",
       "84543                                                  0                     \n",
       "84544                                                  0                     \n",
       "84545                                                  0                     \n",
       "\n",
       "       BUILDING CLASS CATEGORY_44 CONDO PARKING                             \\\n",
       "3                                                      0                     \n",
       "6                                                      0                     \n",
       "79                                                     0                     \n",
       "80                                                     0                     \n",
       "81                                                     0                     \n",
       "...                                                  ...                     \n",
       "84540                                                  0                     \n",
       "84541                                                  0                     \n",
       "84543                                                  0                     \n",
       "84544                                                  0                     \n",
       "84545                                                  0                     \n",
       "\n",
       "       BUILDING CLASS CATEGORY_45 CONDO HOTELS                              \\\n",
       "3                                                      0                     \n",
       "6                                                      0                     \n",
       "79                                                     0                     \n",
       "80                                                     0                     \n",
       "81                                                     0                     \n",
       "...                                                  ...                     \n",
       "84540                                                  0                     \n",
       "84541                                                  0                     \n",
       "84543                                                  0                     \n",
       "84544                                                  0                     \n",
       "84545                                                  0                     \n",
       "\n",
       "       BUILDING CLASS CATEGORY_46 CONDO STORE BUILDINGS                     \\\n",
       "3                                                      0                     \n",
       "6                                                      0                     \n",
       "79                                                     0                     \n",
       "80                                                     0                     \n",
       "81                                                     0                     \n",
       "...                                                  ...                     \n",
       "84540                                                  0                     \n",
       "84541                                                  0                     \n",
       "84543                                                  0                     \n",
       "84544                                                  0                     \n",
       "84545                                                  0                     \n",
       "\n",
       "       BUILDING CLASS CATEGORY_47 CONDO NON-BUSINESS STORAGE                \\\n",
       "3                                                      0                     \n",
       "6                                                      0                     \n",
       "79                                                     0                     \n",
       "80                                                     0                     \n",
       "81                                                     0                     \n",
       "...                                                  ...                     \n",
       "84540                                                  0                     \n",
       "84541                                                  0                     \n",
       "84543                                                  0                     \n",
       "84544                                                  0                     \n",
       "84545                                                  0                     \n",
       "\n",
       "       BUILDING CLASS CATEGORY_48 CONDO TERRACES/GARDENS/CABANAS            \\\n",
       "3                                                      0                     \n",
       "6                                                      0                     \n",
       "79                                                     0                     \n",
       "80                                                     0                     \n",
       "81                                                     0                     \n",
       "...                                                  ...                     \n",
       "84540                                                  0                     \n",
       "84541                                                  0                     \n",
       "84543                                                  0                     \n",
       "84544                                                  0                     \n",
       "84545                                                  0                     \n",
       "\n",
       "       TAX CLASS AT PRESENT_1  TAX CLASS AT PRESENT_1A  \\\n",
       "3                           0                        0   \n",
       "6                           0                        0   \n",
       "79                          0                        0   \n",
       "80                          0                        0   \n",
       "81                          0                        0   \n",
       "...                       ...                      ...   \n",
       "84540                       1                        0   \n",
       "84541                       1                        0   \n",
       "84543                       1                        0   \n",
       "84544                       1                        0   \n",
       "84545                       1                        0   \n",
       "\n",
       "       TAX CLASS AT PRESENT_1B  TAX CLASS AT PRESENT_1C  \\\n",
       "3                            0                        0   \n",
       "6                            0                        0   \n",
       "79                           0                        0   \n",
       "80                           0                        0   \n",
       "81                           0                        0   \n",
       "...                        ...                      ...   \n",
       "84540                        0                        0   \n",
       "84541                        0                        0   \n",
       "84543                        0                        0   \n",
       "84544                        0                        0   \n",
       "84545                        0                        0   \n",
       "\n",
       "       TAX CLASS AT PRESENT_2  TAX CLASS AT PRESENT_2A  \\\n",
       "3                           0                        0   \n",
       "6                           0                        0   \n",
       "79                          1                        0   \n",
       "80                          1                        0   \n",
       "81                          1                        0   \n",
       "...                       ...                      ...   \n",
       "84540                       0                        0   \n",
       "84541                       0                        0   \n",
       "84543                       0                        0   \n",
       "84544                       0                        0   \n",
       "84545                       0                        0   \n",
       "\n",
       "       TAX CLASS AT PRESENT_2B  TAX CLASS AT PRESENT_2C  \\\n",
       "3                            1                        0   \n",
       "6                            1                        0   \n",
       "79                           0                        0   \n",
       "80                           0                        0   \n",
       "81                           0                        0   \n",
       "...                        ...                      ...   \n",
       "84540                        0                        0   \n",
       "84541                        0                        0   \n",
       "84543                        0                        0   \n",
       "84544                        0                        0   \n",
       "84545                        0                        0   \n",
       "\n",
       "       TAX CLASS AT PRESENT_3  TAX CLASS AT PRESENT_4  \\\n",
       "3                           0                       0   \n",
       "6                           0                       0   \n",
       "79                          0                       0   \n",
       "80                          0                       0   \n",
       "81                          0                       0   \n",
       "...                       ...                     ...   \n",
       "84540                       0                       0   \n",
       "84541                       0                       0   \n",
       "84543                       0                       0   \n",
       "84544                       0                       0   \n",
       "84545                       0                       0   \n",
       "\n",
       "       TAX CLASS AT TIME OF SALE_2  TAX CLASS AT TIME OF SALE_3  \\\n",
       "3                                1                            0   \n",
       "6                                1                            0   \n",
       "79                               1                            0   \n",
       "80                               1                            0   \n",
       "81                               1                            0   \n",
       "...                            ...                          ...   \n",
       "84540                            0                            0   \n",
       "84541                            0                            0   \n",
       "84543                            0                            0   \n",
       "84544                            0                            0   \n",
       "84545                            0                            0   \n",
       "\n",
       "       TAX CLASS AT TIME OF SALE_4  \n",
       "3                                0  \n",
       "6                                0  \n",
       "79                               0  \n",
       "80                               0  \n",
       "81                               0  \n",
       "...                            ...  \n",
       "84540                            0  \n",
       "84541                            0  \n",
       "84543                            0  \n",
       "84544                            0  \n",
       "84545                            0  \n",
       "\n",
       "[36544 rows x 62 columns]"
      ]
     },
     "execution_count": 66,
     "metadata": {},
     "output_type": "execute_result"
    }
   ],
   "source": [
    "X"
   ]
  },
  {
   "cell_type": "code",
   "execution_count": 67,
   "metadata": {},
   "outputs": [],
   "source": [
    "from sklearn.model_selection import train_test_split\n",
    "\n",
    "X_train, X_test, y_train, y_test = train_test_split(X, y, test_size = 0.3, random_state = 123)"
   ]
  },
  {
   "cell_type": "markdown",
   "metadata": {},
   "source": [
    "#### Model building"
   ]
  },
  {
   "cell_type": "code",
   "execution_count": 62,
   "metadata": {},
   "outputs": [
    {
     "data": {
      "text/plain": [
       "0.7614558221886646"
      ]
     },
     "execution_count": 62,
     "metadata": {},
     "output_type": "execute_result"
    }
   ],
   "source": [
    "linreg = LinearRegression()\n",
    "linreg.fit(X_train, y_train)\n",
    "Y_pred_lin = linreg.predict(X_test)\n",
    "rmse(y_test,Y_pred_lin)"
   ]
  },
  {
   "cell_type": "code",
   "execution_count": 68,
   "metadata": {},
   "outputs": [],
   "source": [
    "# RMSE\n",
    "def rmse(y_test,y_pred):\n",
    "      return np.sqrt(mean_squared_error(y_test,y_pred))"
   ]
  },
  {
   "cell_type": "code",
   "execution_count": 63,
   "metadata": {},
   "outputs": [
    {
     "data": {
      "text/plain": [
       "0.7635915972542304"
      ]
     },
     "execution_count": 63,
     "metadata": {},
     "output_type": "execute_result"
    }
   ],
   "source": [
    "alpha=0.00099\n",
    "lasso_regr=Lasso(alpha=alpha,max_iter=50000)\n",
    "lasso_regr.fit(X_train, y_train)\n",
    "Y_pred_lasso=lasso_regr.predict(X_test)\n",
    "rmse(y_test,Y_pred_lasso)"
   ]
  },
  {
   "cell_type": "code",
   "execution_count": 64,
   "metadata": {},
   "outputs": [
    {
     "data": {
      "text/plain": [
       "0.7609868580809177"
      ]
     },
     "execution_count": 64,
     "metadata": {},
     "output_type": "execute_result"
    }
   ],
   "source": [
    "ridge = Ridge(alpha=0.01, normalize=True)\n",
    "ridge.fit(X_train, y_train)\n",
    "Y_pred_ridge = ridge.predict(X_test)\n",
    "rmse(y_test,Y_pred_ridge)"
   ]
  },
  {
   "cell_type": "code",
   "execution_count": 69,
   "metadata": {},
   "outputs": [
    {
     "data": {
      "text/plain": [
       "0.5622458482376226"
      ]
     },
     "execution_count": 69,
     "metadata": {},
     "output_type": "execute_result"
    }
   ],
   "source": [
    "rf_regr = RandomForestRegressor()\n",
    "rf_regr.fit(X_train, y_train)\n",
    "Y_pred_rf = rf_regr.predict(X_test)\n",
    "rmse(y_test,Y_pred_rf)"
   ]
  },
  {
   "cell_type": "code",
   "execution_count": 70,
   "metadata": {},
   "outputs": [],
   "source": [
    "y_pred_train=rf_regr.predict(X_train)"
   ]
  },
  {
   "cell_type": "markdown",
   "metadata": {},
   "source": [
    "#### RMSE"
   ]
  },
  {
   "cell_type": "code",
   "execution_count": 71,
   "metadata": {},
   "outputs": [
    {
     "data": {
      "text/plain": [
       "0.23325362029443247"
      ]
     },
     "execution_count": 71,
     "metadata": {},
     "output_type": "execute_result"
    }
   ],
   "source": [
    "rmse(y_train,y_pred_train)"
   ]
  },
  {
   "cell_type": "markdown",
   "metadata": {},
   "source": [
    "#### Conclusions and saving the best model using pickle"
   ]
  },
  {
   "cell_type": "code",
   "execution_count": 72,
   "metadata": {},
   "outputs": [],
   "source": [
    "import pickle"
   ]
  },
  {
   "cell_type": "code",
   "execution_count": 73,
   "metadata": {},
   "outputs": [],
   "source": [
    "filename = 'NYC_property_sales_model.sav'\n",
    "pickle.dump(rf_regr, open(filename, 'wb'))"
   ]
  },
  {
   "cell_type": "code",
   "execution_count": 74,
   "metadata": {},
   "outputs": [
    {
     "name": "stdout",
     "output_type": "stream",
     "text": [
      "0.6690454230783461\n"
     ]
    }
   ],
   "source": [
    "loaded_model = pickle.load(open(filename, 'rb'))\n",
    "result = loaded_model.score(X_test, y_test)\n",
    "print(result)"
   ]
  },
  {
   "cell_type": "markdown",
   "metadata": {},
   "source": [
    "#### Saving the model using joblib"
   ]
  },
  {
   "cell_type": "code",
   "execution_count": 75,
   "metadata": {},
   "outputs": [],
   "source": [
    "from sklearn.externals import joblib "
   ]
  },
  {
   "cell_type": "code",
   "execution_count": 76,
   "metadata": {},
   "outputs": [
    {
     "data": {
      "text/plain": [
       "['NYC_Property_Sales_prediction_Model.pkl']"
      ]
     },
     "execution_count": 76,
     "metadata": {},
     "output_type": "execute_result"
    }
   ],
   "source": [
    "joblib.dump(rf_regr, 'NYC_Property_Sales_prediction_Model.pkl') "
   ]
  },
  {
   "cell_type": "code",
   "execution_count": 77,
   "metadata": {},
   "outputs": [],
   "source": [
    "rf = joblib.load('NYC_Property_Sales_prediction_Model.pkl') "
   ]
  },
  {
   "cell_type": "code",
   "execution_count": 78,
   "metadata": {},
   "outputs": [
    {
     "data": {
      "text/plain": [
       "array([ 0.10635008,  0.54245358, -0.15616806, ...,  0.11649804,\n",
       "       -1.64883915,  0.8919696 ])"
      ]
     },
     "execution_count": 78,
     "metadata": {},
     "output_type": "execute_result"
    }
   ],
   "source": [
    "rf.predict(X_test) "
   ]
  }
 ],
 "metadata": {
  "kernelspec": {
   "display_name": "Python 3",
   "language": "python",
   "name": "python3"
  },
  "language_info": {
   "codemirror_mode": {
    "name": "ipython",
    "version": 3
   },
   "file_extension": ".py",
   "mimetype": "text/x-python",
   "name": "python",
   "nbconvert_exporter": "python",
   "pygments_lexer": "ipython3",
   "version": "3.7.4"
  }
 },
 "nbformat": 4,
 "nbformat_minor": 2
}
